{
 "cells": [
  {
   "cell_type": "markdown",
   "metadata": {},
   "source": [
    "<a href=\"https://colab.research.google.com/github/valentitos/CC1002-2024/blob/main/Clases/Clase_04_Condicionales/Clase04_Condicionales.ipynb\" target=\"_parent\"><img src=\"colab-badge.svg\" alt=\"Open In Colab\\\"/></a> "
   ]
  },
  {
   "cell_type": "markdown",
   "metadata": {},
   "source": [
    "# Clase 04: Condicionales"
   ]
  },
  {
   "cell_type": "markdown",
   "metadata": {},
   "source": [
    "## Recuerdo Clase 02"
   ]
  },
  {
   "cell_type": "markdown",
   "metadata": {},
   "source": [
    "### Módulos"
   ]
  },
  {
   "cell_type": "markdown",
   "metadata": {},
   "source": [
    "La programación usando módulos (programación modular) es una técnica de diseño que separa las funciones de un programa en módulos, generando una **separación de intereses o responsabilidades**.\n",
    "\n",
    "- Un módulo tiene una finalidad única, y contienen todo lo necesario para llevar a cabo esa funcionalidad (código, variables, etc.) dentro de un mismo archivo.\n",
    "\n",
    "- Podemos tener **módulos predefinidos** (`math`, `random`, etc.) y **módulos creados por nosotros(as)** (`triangulo`, `circulo`, etc.)"
   ]
  },
  {
   "cell_type": "markdown",
   "metadata": {},
   "source": [
    "### Importar módulos"
   ]
  },
  {
   "cell_type": "markdown",
   "metadata": {},
   "source": [
    "---\n",
    "\n",
    "**Forma 1:** `import modulo`\n",
    "\n",
    "Luego al usar las funciones del módulo, escribimos `modulo.función`\n",
    "```python\n",
    "import random\n",
    "\n",
    "n1 = random.randint(1, 2)\n",
    "n2 = random.uniform(3, 7)\n",
    "```\n",
    "\n",
    "---\n",
    "\n",
    "**Forma 1.5:** `import modulo as alias`\n",
    "\n",
    "Luego al usar las funciones del módulo, escribimos `alias.función`\n",
    "```python\n",
    "import random as r\n",
    "\n",
    "n1 = r.randint(1, 2)\n",
    "n2 = r.uniform(3, 7)\n",
    "```\n",
    "\n",
    "---\n",
    "\n",
    "\n",
    "**Forma 2:** `from modulo import fun1, fun2...`\n",
    "\n",
    "Luego al usar las funciones del módulo, escribimos el nombre de la `función`\n",
    "```python\n",
    "from random import randint, uniform\n",
    "\n",
    "n1 = r.randint(1, 2)\n",
    "n2 = r.uniform(3, 7)\n",
    "```\n",
    "\n",
    "---\n",
    "\n",
    "**Forma 3:** `from modulo import *`\n",
    "\n",
    "Luego al usar las funciones del módulo, escribimos el nombre de la `función`\n",
    "```python\n",
    "from random import *\n",
    "\n",
    "n1 = r.randint(1, 2)\n",
    "n2 = r.uniform(3, 7)\n",
    "```\n",
    "\n",
    "---"
   ]
  },
  {
   "cell_type": "markdown",
   "metadata": {},
   "source": [
    "### Módulo math"
   ]
  },
  {
   "cell_type": "markdown",
   "metadata": {},
   "source": [
    "El módulo math nos provee un gran abanico de funciones para trabajar con operaciones matemáticas, en particular:\n",
    "\n",
    "| Función  | Significado   | Ejemplo  | Resultado | \n",
    "|---|---|---|---|\n",
    "| ``math.sqrt(x)``  | $\\sqrt{x}$  | ``math.sqrt(4)``  | ``2.0``  |  \n",
    "| ``math.pow(x,y)``  | $x^{x}$  | ``math.pow(4, 0.5)``  | ``2.0``  |   \n",
    "| ``math.exp(x)``  | $e^{x}$  | ``math.exp(1)``  | ``2.7182...``  |\n",
    "| ``math.log(x)``  | $ln(x)$  | ``math.log(math.e)``  | ``1.0``  |\n",
    "| ``math.sin(x)``  | $sin(x)$  | ``math.sin(math.pi)``  | ``0.0``  |\n",
    "| ``math.cos(x)``  | $cos(x)$  | ``math.cos(math.pi)``  | ``-1.0``  |\n",
    "| ``math.tan(x)``  | $tan(x)$  | ``math.tan(math.pi)``  | ``0.0``  |"
   ]
  },
  {
   "cell_type": "markdown",
   "metadata": {},
   "source": [
    "### Módulo Random"
   ]
  },
  {
   "cell_type": "markdown",
   "metadata": {},
   "source": [
    "El módulo random nos provee un gran abanico de funciones para trabajar con generación de valores aleatorios, permutaciones, distribuciones de probabilidad, entre otros. En particular:\n",
    "\n",
    "| Función  | Significado   | \n",
    "|---|---|\n",
    "| ``random.random()``  | número `float` al azar en el intervalo $[0,1[$  | \n",
    "| ``random.randint(x,y)``  | número `int` al azar en el intervalo $[x,y]$  | \n",
    "| ``random.uniform(x,y)``  |  número `float` al azar en el intervalo $[x,y]$ |\n"
   ]
  },
  {
   "cell_type": "markdown",
   "metadata": {},
   "source": [
    "### Funciones Predefinidas"
   ]
  },
  {
   "cell_type": "markdown",
   "metadata": {},
   "source": [
    "Hay funciones que vienen incluidas en Python, y **no** es necesario invocar un módulo para usarlas. Algunas de ellas son:\n",
    "\n",
    "| Función  | Significado   | Ejemplo  | Resultado | \n",
    "|---|---|---|---|\n",
    "| ``abs(x)``  | $\\lvert x \\rvert$ valor absoluto de $x$  | ``abs(-4)``  | ``4``  |  \n",
    "| ``max(x, y, ...)``  | máximo entre todos los valores ingresados  | ``max(4, 3,-2,8)``  | ``8``  |   \n",
    "| ``min(x, y, ...)``  | mínimo entre todos los valores ingresados  | ``min(4, 3,-2,8)``  | ``-2``  |   \n",
    "| ``round(x,z)``  | Redondea un número decimal $x$, aproximándolo con $z$ decimales | ``round(2.73555,2)``  | ``2.74``  |\n",
    "| | |  ``round(2.73345)``  | ``3``  |\n",
    "\n",
    "También están las que ya hemos usado regularmente, como ``int()``, ``float()``, ``str()``, etc..."
   ]
  },
  {
   "cell_type": "markdown",
   "metadata": {},
   "source": [
    "### Módulos Propios"
   ]
  },
  {
   "cell_type": "markdown",
   "metadata": {},
   "source": [
    "También podemos crear nuestros propios módulos. Para esto, creamos un archivo `.py`, le damos un nombre, y dentro creamos las funciones que queremos encapsular. Lo importante al programar nuestros propios módulos, es que todas las funciones queden dentro de un mismo archivo, y el archivo tenga un nombre intuitivo.\n",
    "\n",
    "---\n",
    "`Archivo triangulo.py`\n",
    "\n",
    "```python\n",
    "import math\n",
    "\n",
    "#perimetro: num num -> num\n",
    "#calcula el perimetro de un triangulo de lados a b y c \n",
    "#ejemplo: perimetro(3,4,5) entrega 12\n",
    "def perimetro(a,b,c):\n",
    "    return a + b +c \n",
    "\n",
    "#Test\n",
    "assert perimetro(3,4,5) == 12\n",
    "\n",
    "\n",
    "#area: num num -> float\n",
    "#calcula el area de un triangulo de lados a b y c\n",
    "#ejemplo: area(3,4,5) entrega 6\n",
    "def area(a,b,c):\n",
    "    semi = perimetro(a,b,c)/2\n",
    "    return math.sqrt(semi*(semi-a)*(semi-b)*(semi-c))\n",
    "\n",
    "#Test\n",
    "assert area(3,4,5) == 6.0\n",
    "```"
   ]
  },
  {
   "cell_type": "markdown",
   "metadata": {},
   "source": [
    "---"
   ]
  },
  {
   "cell_type": "markdown",
   "metadata": {},
   "source": [
    "### Programas interactivos"
   ]
  },
  {
   "cell_type": "markdown",
   "metadata": {},
   "source": [
    "Ya los hemos visto en clases anteriores, son instrucciones secuenciales que permiten realizar una interacción, preguntando datos y mostrando resultados. Lo nuevo acá es que es posible usar módulos con funciones externas en nuestros programas:\n",
    "\n",
    "---\n",
    "\n",
    "``triangulo_programainteractivo.py``\n",
    "\n",
    "```python\n",
    "from triangulo import *\n",
    "\n",
    "print(\"Calculemos el Área y Perímetro de un triangulo\")\n",
    "\n",
    "lado1 = float(input(\"Ingrese largo del primer lado: \"))\n",
    "lado2 = float(input(\"Ingrese largo del segundo lado: \"))\n",
    "lado3 = float(input(\"Ingrese largo del tercer lado: \"))\n",
    "\n",
    "print(\"El perímetro es: \", perimetro(lado1,lado2,lado3))\n",
    "print(\"El área es: \", area(lado1,lado2,lado3))\n",
    "```"
   ]
  },
  {
   "cell_type": "markdown",
   "metadata": {},
   "source": [
    "---"
   ]
  },
  {
   "cell_type": "markdown",
   "metadata": {},
   "source": [
    "### Funciones Interactivas"
   ]
  },
  {
   "cell_type": "markdown",
   "metadata": {},
   "source": [
    "También es posible tener funciones interactivas.  Es decir, funciones que no reciben parámetros, ni entregan respuestas vía ``return``, pero interactúan con una persona a través de ``input`` y ``print``\n",
    "\n",
    "---\n",
    "\n",
    "``triangulo_funcioninteractiva.py``\n",
    "\n",
    "```python\n",
    "from triangulo import *\n",
    "\n",
    "# preguntasTriangulo: None -> None\n",
    "# pregunta a una persona por los 3 lados de un triangulo y calcula area y perimetro\n",
    "# Ej: preguntasTriangulo() da inicio a las preguntas\n",
    "def preguntasTriangulo():\n",
    "    print(\"Calculemos el Área y Perímetro de un triangulo\")\n",
    "\n",
    "    lado1 = float(input(\"Ingrese largo del primer lado: \"))\n",
    "    lado2 = float(input(\"Ingrese largo del segundo lado: \"))\n",
    "    lado3 = float(input(\"Ingrese largo del tercer lado: \"))\n",
    "    \n",
    "    print(\"El perímetro es: \", perimetro(lado1,lado2,lado3))\n",
    "    print(\"El área es: \", area(lado1,lado2,lado3))\n",
    "\n",
    "    return None\n",
    "```\n",
    "\n",
    "---\n",
    "\n",
    "- Cuando una función no recibe parámetros y/o no retorna/entrega un resultado explicito, se coloca el \"tipo de dato\" ``None``\n",
    "\n",
    "- El cuerpo de la función es bastante similar al programa interactivo original (se puede decir que una función interactiva encapsula el comportamiento de su programa interactivo equivalente)\n"
   ]
  },
  {
   "cell_type": "markdown",
   "metadata": {},
   "source": [
    "### Funciones interactivas vs Programas interactivos"
   ]
  },
  {
   "cell_type": "markdown",
   "metadata": {},
   "source": [
    "- Como vimos, ambos cumplen su tarea de una manera similar para el mismo problema.\n",
    "\n",
    "- Un **programa interactivo**, al no ser una función, **no está subordinado a la receta de diseño**. \n",
    "\n",
    "  - Simplemente son una serie de instrucciones que generan una interacción.\n",
    "\n",
    "- Una **función interactiva**, al ser función, tiene que **respetar la receta de diseño**, con algunos detalles:\n",
    "\n",
    "  - Las interacciones que ocurran mediante ``input`` y ``print`` son *invisibles* al contrato de la función, ya que no se consideran como parámetros ni respuesta de una función\n",
    "\n",
    "  - Las funciones interactivas no llevan test, ya que al no retornar nada (``return None``), no es posible testearlas.\n",
    "\n",
    "  - El ejemplo de uso es opcional\n",
    " \n",
    "---"
   ]
  },
  {
   "cell_type": "markdown",
   "metadata": {},
   "source": [
    "## Expresiones Condicionales"
   ]
  },
  {
   "cell_type": "markdown",
   "metadata": {},
   "source": [
    "Existen **expresiones**, que al ser evaluadas, retornan valores:\n",
    "\n",
    "- `True` (verdadero)\n",
    "\n",
    "- `False` (falso)\n",
    "\n",
    "Estos valores son de tipo lógico, o `bool` (booleanos). En particular, una expresión que da como resultado un valor de tipo lógico, se llama **condición**\n",
    "\n",
    "\n",
    "En cierto curso de álgebra, se hablaba de **proposiciones verdaderas o falsas**. En nuestro caso, para un par de expresiones `x` e `y`, existen los siguientes **operadores de comparación**, las cuales se evalúan a `True` o `False`\n",
    "\n",
    "|Expresión | Significado | Ejemplo | Resultado |\n",
    "|---|---|---|---|\n",
    "| `x == y` | ¿Es `x` igual a `y`? | `5 == 7` | `False` | \n",
    "| `x < y` | ¿Es `x` menor que `y`? | `6 < 9` | `True` | \n",
    "| `x > y` | ¿Es `x` mayor que `y`? | `6 > 9` | `False` |\n",
    "| `x <= y` | ¿Es `x` menor o igual que `y`? | `8 <= 4` | `False` | \n",
    "| `x >= y` | ¿Es `x` mayor o igual que `y`? | `8 >= 8` | `True` |\n",
    "| `x != y` | ¿Es `x` distinto de `y`? | `5 != 7` | `True` |  "
   ]
  },
  {
   "cell_type": "markdown",
   "metadata": {},
   "source": [
    "Ejemplos:"
   ]
  },
  {
   "cell_type": "code",
   "execution_count": 1,
   "metadata": {},
   "outputs": [
    {
     "data": {
      "text/plain": [
       "False"
      ]
     },
     "execution_count": 1,
     "metadata": {},
     "output_type": "execute_result"
    }
   ],
   "source": [
    "5 > 7"
   ]
  },
  {
   "cell_type": "markdown",
   "metadata": {},
   "source": [
    "Tambíen podemos comparar valores almacenadados en variables"
   ]
  },
  {
   "cell_type": "code",
   "execution_count": 2,
   "metadata": {},
   "outputs": [],
   "source": [
    "x = 3\n",
    "y = 6\n",
    "z = 6"
   ]
  },
  {
   "cell_type": "code",
   "execution_count": 3,
   "metadata": {},
   "outputs": [
    {
     "data": {
      "text/plain": [
       "False"
      ]
     },
     "execution_count": 3,
     "metadata": {},
     "output_type": "execute_result"
    }
   ],
   "source": [
    "z == 3"
   ]
  },
  {
   "cell_type": "code",
   "execution_count": 4,
   "metadata": {},
   "outputs": [
    {
     "data": {
      "text/plain": [
       "True"
      ]
     },
     "execution_count": 4,
     "metadata": {},
     "output_type": "execute_result"
    }
   ],
   "source": [
    "z == y "
   ]
  },
  {
   "cell_type": "code",
   "execution_count": 5,
   "metadata": {},
   "outputs": [
    {
     "data": {
      "text/plain": [
       "True"
      ]
     },
     "execution_count": 5,
     "metadata": {},
     "output_type": "execute_result"
    }
   ],
   "source": [
    "y >= z"
   ]
  },
  {
   "cell_type": "markdown",
   "metadata": {},
   "source": [
    "Tambíen podemos comparar cadenas de texto, en cuyo caso se usa la *comparación lexicográfica* o *comparación de diccionario (`A < Z < a < z`), en donde cada carácter adquiere un valor de acuerdo a su posición en la tabla *Unicode*"
   ]
  },
  {
   "cell_type": "code",
   "execution_count": 6,
   "metadata": {},
   "outputs": [],
   "source": [
    "x = 'gatito'\n",
    "y = 'perrito'\n",
    "z = 'gatito'"
   ]
  },
  {
   "cell_type": "code",
   "execution_count": 7,
   "metadata": {},
   "outputs": [
    {
     "data": {
      "text/plain": [
       "False"
      ]
     },
     "execution_count": 7,
     "metadata": {},
     "output_type": "execute_result"
    }
   ],
   "source": [
    "z == y"
   ]
  },
  {
   "cell_type": "code",
   "execution_count": 8,
   "metadata": {},
   "outputs": [
    {
     "data": {
      "text/plain": [
       "True"
      ]
     },
     "execution_count": 8,
     "metadata": {},
     "output_type": "execute_result"
    }
   ],
   "source": [
    "z == x "
   ]
  },
  {
   "cell_type": "code",
   "execution_count": 9,
   "metadata": {},
   "outputs": [
    {
     "data": {
      "text/plain": [
       "False"
      ]
     },
     "execution_count": 9,
     "metadata": {},
     "output_type": "execute_result"
    }
   ],
   "source": [
    "x > y "
   ]
  },
  {
   "cell_type": "markdown",
   "metadata": {},
   "source": [
    "Al menos por esta primera parte del curso, cuando realicemos comparación de **texto**, solo usaremos los **comparadores de igualdad o distinto**"
   ]
  },
  {
   "cell_type": "markdown",
   "metadata": {},
   "source": [
    "### Operadores lógicos"
   ]
  },
  {
   "cell_type": "markdown",
   "metadata": {},
   "source": [
    "Es posible obtener condiciones compuestas, mediante conectores lógicos:\n",
    "\n",
    "\n",
    "| Conector | Interpretación |\n",
    "|---|---|\n",
    "| `x and y` | Es `True` si tanto `x` como `y` son `True`| \n",
    "| `x or y` | Es `True` al menos `x` o `y` es `True`|\n",
    "| `not y` | Niega el resultado de la expresión inmediatamente a su derecha|\n",
    "\n",
    "La prioridad de evaluación es: primero `not`, luego `and` y finalmente `or`\n",
    "\n",
    "Por ejemplo:\n",
    "\n",
    "- La expresión `x >= y and x >= z` , se evaluará a `True` siempre que ambas expresiones (la del lado izquierdo y la del lado derecho) sean verdaderas simultáneamente\n",
    "\n",
    "- La expresión `not x == y and y <= z or y < z` es equivalente a:\n",
    "  `((not x == y) and (y <= z)) or (y < z)`"
   ]
  },
  {
   "cell_type": "markdown",
   "metadata": {},
   "source": [
    "Ejemplos:"
   ]
  },
  {
   "cell_type": "code",
   "execution_count": 10,
   "metadata": {},
   "outputs": [],
   "source": [
    "x = 5\n",
    "y = 5\n",
    "z = 6"
   ]
  },
  {
   "cell_type": "code",
   "execution_count": 11,
   "metadata": {},
   "outputs": [
    {
     "data": {
      "text/plain": [
       "True"
      ]
     },
     "execution_count": 11,
     "metadata": {},
     "output_type": "execute_result"
    }
   ],
   "source": [
    "x == y and y < z    #ambas se cumplen por separado"
   ]
  },
  {
   "cell_type": "code",
   "execution_count": 12,
   "metadata": {},
   "outputs": [
    {
     "data": {
      "text/plain": [
       "False"
      ]
     },
     "execution_count": 12,
     "metadata": {},
     "output_type": "execute_result"
    }
   ],
   "source": [
    "z = 4\n",
    "x == y and y < z    #ahora solo 1 se cumple"
   ]
  },
  {
   "cell_type": "code",
   "execution_count": 13,
   "metadata": {},
   "outputs": [
    {
     "data": {
      "text/plain": [
       "True"
      ]
     },
     "execution_count": 13,
     "metadata": {},
     "output_type": "execute_result"
    }
   ],
   "source": [
    "x == y or y < z     #con or, solo basta que 1 se cumpla"
   ]
  },
  {
   "cell_type": "markdown",
   "metadata": {},
   "source": [
    "## Condiciones"
   ]
  },
  {
   "cell_type": "markdown",
   "metadata": {},
   "source": [
    "Una **condición** es una **expresión** cuyos valores es de tipo lógico (booleano)\n",
    "\n",
    "Las condiciones permiten establecer un determinado estado del programa, dependiendo si la condición es evaluada a `True`, o a `False`\n",
    "\n",
    "Por ejemplo, una posible condición al lanzar dos dados puede ser:\n",
    "\n",
    "- ¿La suma de las caras superiores es mayor a 10?\n",
    "\n",
    "Esto abre la posibilidad a dos distintos escenarios, y podemos **realizar distintas acciones** dependiendo del resultado obtenido"
   ]
  },
  {
   "cell_type": "markdown",
   "metadata": {},
   "source": [
    "## Instrucción `if`"
   ]
  },
  {
   "cell_type": "markdown",
   "metadata": {},
   "source": [
    "La instrucción `if` corresponde a una sentencia de control de flujo de un programa o función, que nos permite decidir qué es lo que hará un programa, dependiendo si se cumple o no cierta condición\n",
    "\n",
    "### Sintaxis\n",
    "\n",
    "```python\n",
    "if condición:\n",
    "    instrucciones1\n",
    "else:\n",
    "    instrucciones2\n",
    "```\n",
    "\n",
    "El bloque de `instrucciones1` se ejecutará solo si la `condición` es `True`. Si la `condición` se evalúa a `False`, entonces se ejecutará el bloque de `instrucciones2`. (notar que **else no lleva condición**, ya que se asume que es lo contrario a la condición inicial)\n",
    "\n",
    "Todas las instrucciones que pertenezcan a un `if-else`, deben ir en un nivel de identación mas a la derecha.\n",
    "\n",
    "Con ayuda de la instrucción `if-else`, podemos construir funciones condicionales, que entregan un resultado distinto, dependiendo de los parámetros de entrada ingresados\n",
    "\n",
    "### Caso extra 1\n",
    "\n",
    "Podemos tener otras instrucciones fuera del bloque condicional\n",
    "\n",
    "```python\n",
    "if condición:\n",
    "    instrucciones1\n",
    "else:\n",
    "    instrucciones2\n",
    "más instrucciones\n",
    "```\n",
    "<div><img src=\"img1_ifcaso1.png\" width=\"50%;\"/></div>\n",
    "\n",
    "\n",
    "### Caso extra 2\n",
    "\n",
    "Else puede omitirse\n",
    "\n",
    "```python\n",
    "if condición:\n",
    "    instrucciones1\n",
    "más instrucciones\n",
    "```\n",
    "\n",
    "<div><img src=\"img2_ifcaso2.png\" width=\"40%;\"/></div>"
   ]
  },
  {
   "cell_type": "markdown",
   "metadata": {},
   "source": [
    "---"
   ]
  },
  {
   "cell_type": "markdown",
   "metadata": {},
   "source": [
    "## Ejemplo 1: función ``esPar``"
   ]
  },
  {
   "cell_type": "markdown",
   "metadata": {},
   "source": [
    "Veamos como ejemplo, una función para determinar si un **número entero dado es par o impar**\n",
    "\n",
    "<div><img src=\"img3_espar.png\" width=\"65%;\"/></div>\n",
    "\n",
    "**¿Qué consideraciones hay que tener al aplicar la receta de diseño sobre funciones condicionales?**\n",
    "\n",
    "- Identificar cada una de las **situaciones posibles** que pueden ocurrir en la función, dependiendo de los **valores de entrada**\n",
    "\n",
    "- Dar ejemplos de uso y test para **cada escenario** anterior\n",
    "\n",
    "- **Diseñar las condiciones adecuadas** para cada escenario\n",
    "\n",
    "- Ver si es posible simplificar condiciones o agrupar escenarios"
   ]
  },
  {
   "cell_type": "code",
   "execution_count": 14,
   "metadata": {},
   "outputs": [],
   "source": [
    "#esPar: int -> bool\n",
    "#True si un numero entero es par\n",
    "#ej: esPar(4) entrega True\n",
    "#    esPar(7) entrega False\n",
    "def esPar(n):\n",
    "    if n%2 == 0:\n",
    "        return True\n",
    "    else:\n",
    "        return False\n",
    "\n",
    "# Test\n",
    "assert esPar(4) == True\n",
    "assert esPar(7) == False "
   ]
  },
  {
   "cell_type": "markdown",
   "metadata": {},
   "source": [
    "- Cuando una función recibe o entrega valores lógicos, se usa el tipo de dato ``bool``\n",
    "\n",
    "- Evaluamos una condición, la cual puede resultar verdadera o falsa \n",
    "\n",
    "- Si la condición es verdadera, es decir, el número es divisible exactamente por 2, entonces la función entrega Verdadero como resultado \n",
    "\n",
    "- Si la condición resulta ser falsa, es decir, el número al ser dividido por 2 da resto 1, entonces la función entrega Falso como resultado"
   ]
  },
  {
   "cell_type": "markdown",
   "metadata": {},
   "source": [
    "**Caso especial**: se puede simplificar el cuerpo de función que entrega `bool`, si es que está depende del resultado de una evaluación lógica. Tambien se pueden simplificar los test, si es que se trata de una función que entrega ``bool``"
   ]
  },
  {
   "cell_type": "code",
   "execution_count": 15,
   "metadata": {},
   "outputs": [],
   "source": [
    "#esPar: int -> bool\n",
    "#True si un numero entero es par\n",
    "#ej: esPar(4) entrega True\n",
    "#    esPar(7) entrega False\n",
    "def esPar(n):\n",
    "    return n%2 == 0\n",
    "\n",
    "# Test\n",
    "assert esPar(4)\n",
    "assert not esPar(7)"
   ]
  },
  {
   "cell_type": "markdown",
   "metadata": {},
   "source": [
    "``assert not esPar(7)`` se puede leer como \"Afirmamos que NO se cumple que 7 sea par\"\n",
    "\n",
    "---\n"
   ]
  },
  {
   "cell_type": "markdown",
   "metadata": {},
   "source": [
    "## Ejemplo 2: función ``mayorDe3``"
   ]
  },
  {
   "cell_type": "markdown",
   "metadata": {},
   "source": [
    "Escribamos una función que recibe tres números enteros, y nos entregue el mayor de ellos, con la restricción de que no podemos usar las funciones `min` y `max`.\n",
    "\n",
    "Podemos usar condicionales, para determinar que número es mayor que otro, y así llegar al resultado final.\n",
    "\n",
    "\n",
    "<div><img src=\"img4_mayorde3.png\" width=\"65%;\"/></div>\n",
    "\n"
   ]
  },
  {
   "cell_type": "markdown",
   "metadata": {},
   "source": [
    "---\n",
    "\n",
    "``Función mayorDe3 (Receta de diseño)``\n",
    "\n",
    "Independiente de como programemos la solución, está tendrá que cumplir y respetar todo lo que especifiquemos en la siguiente receta:\n",
    "\n"
   ]
  },
  {
   "cell_type": "code",
   "execution_count": null,
   "metadata": {},
   "outputs": [],
   "source": [
    "#mayorDe3: int int int -> int\n",
    "#devuelve el mayor de tres números\n",
    "#ej: mayorDe3(4,7,1) entrega 7\n",
    "#    mayorDe3(7,7,7) entrega 7\n",
    "def mayorDe3(x,y,z):\n",
    "    ...\n",
    "\n",
    "# Test\n",
    "assert mayorDe3(4,7,1) == 7\n",
    "assert mayorDe3(7,7,7) == 7"
   ]
  },
  {
   "cell_type": "markdown",
   "metadata": {},
   "source": [
    "---\n",
    "\n",
    "``Función mayorDe3 (solución v1)``\n",
    "\n",
    "Comparamos dos de los números. Dependiendo de quien de ellos es el mayor, lo comparamos con el número restante"
   ]
  },
  {
   "cell_type": "code",
   "execution_count": 16,
   "metadata": {},
   "outputs": [],
   "source": [
    "def mayorDe3(x,y,z):\n",
    "    if x >= y:\n",
    "        if x >= z:\n",
    "            return x\n",
    "        else:\n",
    "            return z\n",
    "    else:\n",
    "        if y >= z:\n",
    "            return y\n",
    "        else:\n",
    "            return z"
   ]
  },
  {
   "cell_type": "markdown",
   "metadata": {},
   "source": [
    "Con esto notamos que:\n",
    "\n",
    "- Está permitido colocar una rama `if-else` dentro de un `if-else`\n",
    "\n",
    "- Si se cumple la condición, entonces solo se ejecuta el primer sub-bloque de instrucciones\n",
    "\n",
    "- Si no se cumple la condición, entonces solo se ejecuta el segundo sub-bloque de instrucciones\n",
    "\n",
    "---"
   ]
  },
  {
   "cell_type": "markdown",
   "metadata": {},
   "source": [
    "`Función mayorDe3 (solución v2)`\n",
    "\n",
    "Arbitrariamente elegimos uno de los números como el mayor, y lo guardamos en una variable. Esta variable **almacenará el mayor valor visto hasta el momento**, y luego lo vamos comparando con los demás. Si encontramos alguien que es mayor que el que tenemos guardado, entonces lo remplazamos\n"
   ]
  },
  {
   "cell_type": "code",
   "execution_count": 17,
   "metadata": {},
   "outputs": [],
   "source": [
    "def mayorDe3(x,y,z):\n",
    "    mayor = x    \n",
    "    \n",
    "    if y >= mayor:\n",
    "        mayor = y\n",
    "    \n",
    "    if z >= mayor:\n",
    "        mayor = z\n",
    "\n",
    "    return mayor"
   ]
  },
  {
   "cell_type": "markdown",
   "metadata": {},
   "source": [
    "Con esto notamos que:\n",
    "\n",
    "- Este es un caso en el cual no es necesario colocar un `else`\n",
    "\n",
    "- Si `y` es mayor que `x`, entonces reemplazamos el mayor por `y`. En caso contrario no hacemos nada.\n",
    "\n",
    "---"
   ]
  },
  {
   "cell_type": "markdown",
   "metadata": {},
   "source": [
    "`Función mayorDe3 (solución v3)`\n",
    "\n",
    "Podemos usar **condiciones compuestas** para descartar una rama de una sola vez\n"
   ]
  },
  {
   "cell_type": "code",
   "execution_count": 18,
   "metadata": {},
   "outputs": [],
   "source": [
    "def mayorDe3(x,y,z):\n",
    "    if x >= y and x >= z:\n",
    "        return x\n",
    "    else:\n",
    "        if y >= z:\n",
    "            return y\n",
    "        else:\n",
    "            return z"
   ]
  },
  {
   "cell_type": "markdown",
   "metadata": {},
   "source": [
    "Con esto notamos que:\n",
    "\n",
    "- Podemos usar `and`, `or` y `not` para hacer preguntas condicionales mas complejas.\n",
    "\n",
    "- La condición compuesta expresa que, de cumplirse, asegura que `x` es el mayor número.\n",
    "\n",
    "- A partir del primer `else`, podemos olvidarnos de `x`... El mayor solo podrá ser `y` o `z`.\n",
    "\n",
    "- Si... los `else` podrían ser omitidos.\n",
    "\n",
    "---"
   ]
  },
  {
   "cell_type": "markdown",
   "metadata": {},
   "source": [
    "## Ejemplo 3: Programa interactivo ``notafinal``"
   ]
  },
  {
   "cell_type": "markdown",
   "metadata": {},
   "source": [
    "\n",
    "\n",
    "Escribamos un **programa interactivo**, que dada la nota del examen de grado, nos indique la calificación apropiada, de acuerdo al siguiente dialogo:\n",
    "\n",
    "```python\n",
    "Nota? ___\n",
    "Calificación = ___\n",
    "```\n",
    "Donde la calificación viene dada por:\n",
    "\n",
    "| Nota | Calificación |\n",
    "|---|---|\n",
    "|`1.0 <= nota < 4.0`| Reprobado(a)|\n",
    "|`4.0 <= nota < 5.0`| Aprobado(a)|\n",
    "|`5.0 <= nota < 6.0`| Aprobado(a) con Distinción|\n",
    "|`6.0 <= nota <= 7.0`| Aprobado(a) con Distinción Máxima|\n",
    "|`nota < 1.0 o nota > 7.0`| Fuera de rango|\n",
    "\n",
    "---"
   ]
  },
  {
   "cell_type": "markdown",
   "metadata": {},
   "source": [
    "`Programa interactivo (solución v1)`\n",
    "\n",
    "Dependiendo de la nota que nos ingresen, determinamos cual es la calificación que corresponde"
   ]
  },
  {
   "cell_type": "code",
   "execution_count": 19,
   "metadata": {},
   "outputs": [
    {
     "name": "stdout",
     "output_type": "stream",
     "text": [
      "nota? 6.4\n"
     ]
    },
    {
     "name": "stdout",
     "output_type": "stream",
     "text": [
      "Calificación = Aprobado(a) con Distinción Máxima\n"
     ]
    }
   ],
   "source": [
    "nota = float(input(\"nota?\"))\n",
    "print(\"Calificación = \", end=\"\")\n",
    "\n",
    "if 1.0 <= nota and nota < 4.0:\n",
    "    print(\"Reprobado(a)\")\n",
    "if 4.0 <= nota and nota < 5.0:\n",
    "    print(\"Aprobado(a)\")\n",
    "if 5.0 <= nota and nota < 6.0:\n",
    "    print(\"Aprobado(a) con Distinción\")\n",
    "if 6.0 <= nota and nota <= 7.0:\n",
    "    print(\"Aprobado(a) con Distinción Máxima\")\n",
    "if nota < 1.0 or nota > 7.0:\n",
    "    print(\"Fuera de Rango\")"
   ]
  },
  {
   "cell_type": "markdown",
   "metadata": {},
   "source": [
    "Notamos que:\n",
    "\n",
    "- Al colocar `end=\"\"`, permite que el siguiente `print` se muestre en la misma línea que ese `print`.\n",
    "\n",
    "- Para esta solución, si una persona obtiene, por ejemplo, un 4.7, ya sabremos su situación final, pero el programa seguirá preguntando de manera innecesaria todos los demás casos.\n",
    "\n",
    "\n",
    "El problema de la solución anterior, es que siempre evaluaremos todas las condiciones. Eventualmente esto puede ser costoso computacionalmente, si tenemos que buscar una respuesta entre múltiples opciones.\n",
    "\n",
    "Una forma de evitar esto, es evaluar condiciones hasta que nos encontremos con la primera opción verdadera:\n",
    "\n",
    "```python\n",
    "if 1.0 <= nota and nota < 4.0:\n",
    "    print(\"Reprobado(a)\")\n",
    "else:\n",
    "    if 4.0 <= nota and nota < 5.0:\n",
    "        print(\"Aprobado(a)\")\n",
    "    else:\n",
    "        if 5.0 <= nota and nota < 6.0:\n",
    "            ...\n",
    "```\n",
    "\n",
    "Sin embargo, este approach se puede volver inmanejable y difícil de leer, entender y mantener rápidamente, al tener muchos `if-else` anidados. \n",
    "\n",
    "\n",
    "\n"
   ]
  },
  {
   "cell_type": "markdown",
   "metadata": {},
   "source": [
    "## Paréntesis: Instrucción `elif`"
   ]
  },
  {
   "cell_type": "markdown",
   "metadata": {},
   "source": [
    "Algunos lenguajes (como Python) nos permiten abreviar bloques `else-if` con la instrucción `elif`. El bloque:\n",
    "\n",
    "```python\n",
    "if condición1:\n",
    "    instrucciones01\n",
    "else:\n",
    "    if condición2:\n",
    "        instrucciones02\n",
    "    else:\n",
    "        if condición3:\n",
    "            instrucciones03\n",
    "        else:\n",
    "            instrucciones04\n",
    "más instrucciones\n",
    "```\n",
    "\n",
    "Es equivalente a:\n",
    "\n",
    "```python\n",
    "if condición1:\n",
    "    instrucciones01\n",
    "elif condición2:\n",
    "    instrucciones02\n",
    "elif condición3:\n",
    "    instrucciones03\n",
    "else:\n",
    "    instrucciones04\n",
    "más instrucciones\n",
    "```\n",
    "\n",
    "- El primer bloque `elif` cuya condición sea `True`, se ejecutará.\n",
    "\n",
    "- Los demás `elif` y el `else`, serán **ignorados**.\n",
    "\n",
    "<div><img src=\"img5_ifcaso3.png\" width=\"50%;\"/></div>\n",
    "\n",
    "---"
   ]
  },
  {
   "cell_type": "markdown",
   "metadata": {},
   "source": [
    "`Programa interactivo (solución v2)`\n",
    "\n",
    "Usamos `elif` para generar el efecto de \"selección múltiple\", y además simplificamos las condiciones"
   ]
  },
  {
   "cell_type": "code",
   "execution_count": 20,
   "metadata": {},
   "outputs": [
    {
     "name": "stdout",
     "output_type": "stream",
     "text": [
      "nota? 6.4\n"
     ]
    },
    {
     "name": "stdout",
     "output_type": "stream",
     "text": [
      "Calificación = Aprobado(a) con Distinción Máxima\n"
     ]
    }
   ],
   "source": [
    "nota = float(input(\"nota?\"))\n",
    "print(\"Calificación = \", end=\"\")\n",
    "\n",
    "if nota < 1.0 or nota > 7.0:\n",
    "    print(\"Fuera de Rango\")\n",
    "elif nota < 4.0:\n",
    "    print(\"Reprobado(a)\")\n",
    "elif nota < 5.0:\n",
    "    print(\"Aprobado(a)\")\n",
    "elif nota < 6.0:\n",
    "    print(\"Aprobado(a) con Distinción\")\n",
    "else:\n",
    "    print(\"Aprobado(a) con Distinción Máxima\")"
   ]
  },
  {
   "cell_type": "markdown",
   "metadata": {},
   "source": [
    "Notamos que:\n",
    "\n",
    "- Si llegamos a alguna de las condiciones (ej: ``nota < 5.0``), podemos asumir que esa nota ya es sobre 4.0 (o hubiese sido capturada en el paso anterior), por lo que no es necesario volver a preguntarlo\n",
    "\n",
    "- Por descarte, si la nota no fue abordada por ninguno de los casos anteriores, entonces si o si está entre 6 y 7.\n",
    "\n",
    "---"
   ]
  },
  {
   "cell_type": "markdown",
   "metadata": {},
   "source": [
    "## Ejemplo 4: Función ``jaliscoCachipun``"
   ]
  },
  {
   "cell_type": "markdown",
   "metadata": {},
   "source": [
    "\n",
    "Escribamos una función \"tramposa\", que **siempre entregue la jugada ganadora del juego del cachipún**, dada una jugada conocida (piedra, papel o tijera)\n",
    "\n",
    "<div><img src=\"img6_cachipun.png\" width=\"65%;\"/></div>\n",
    "\n",
    "Dependiendo de la jugada ingresada, entregamos la jugada que le gana"
   ]
  },
  {
   "cell_type": "code",
   "execution_count": 21,
   "metadata": {},
   "outputs": [],
   "source": [
    "# jaliscoCachipun: str -> str\n",
    "# entrega la jugada ganadora del cachipun\n",
    "# ej: jaliscoCachipun(\"papel\") entrega \"tijera\"\n",
    "def jaliscoCachipun(jugada):\n",
    "    if jugada == \"tijera\":\n",
    "        return \"piedra\"\n",
    "    elif jugada == \"piedra\":\n",
    "        return \"papel\"\n",
    "    else:\n",
    "        return \"tijera\"\n",
    "\n",
    "# Test\n",
    "assert jaliscoCachipun(\"papel\") == \"tijera\""
   ]
  },
  {
   "cell_type": "markdown",
   "metadata": {},
   "source": [
    "Este es un ejemplo de función donde realizamos **comparaciones** de igualdad entre **strings/textos**\n",
    "\n",
    "---"
   ]
  },
  {
   "cell_type": "markdown",
   "metadata": {},
   "source": [
    "## Propuestos"
   ]
  },
  {
   "cell_type": "markdown",
   "metadata": {},
   "source": [
    "\n",
    "\n",
    "- Sin usar `min` y `max`, escriba una función que permita obtener el mayor de 4 números dados\n",
    "\n",
    "- Cree una función, que simule el lanzamiento de una moneda, y entregue \"cara\" o \"sello\" de manera aleatoria\n",
    "\n",
    "- Cree una función que recibe un número `n` positivo. Si el número es impar, entonces lo multiplica por 3 y le suma 1, y si es par, lo divide en 2\n",
    "\n",
    "- Puede revisar los ejemplos de funciones que hemos visto en clases anteriores que solo están preparadas para números positivos, y manejar el caso cuando alguien entregue números negativos"
   ]
  },
  {
   "cell_type": "markdown",
   "metadata": {},
   "source": [
    "## Conclusiones"
   ]
  },
  {
   "cell_type": "markdown",
   "metadata": {},
   "source": [
    "El día de hoy, hemos aprendido:\n",
    "\n",
    "- Las **expresiones condicionales** y el tipo de dato **bool**\n",
    "\n",
    "- El comando de control **if-else**, para darle un flujo distinto a nuestras funciones y programas, dependiendo de si se cumplen o no ciertas  condiciones\n",
    "\n",
    "- Diversas formas de **construir y encadenar condiciones**, para agregarle más poder de decisión a una función o programa\n"
   ]
  }
 ],
 "metadata": {
  "kernelspec": {
   "display_name": "Python 3 (ipykernel)",
   "language": "python",
   "name": "python3"
  },
  "language_info": {
   "codemirror_mode": {
    "name": "ipython",
    "version": 3
   },
   "file_extension": ".py",
   "mimetype": "text/x-python",
   "name": "python",
   "nbconvert_exporter": "python",
   "pygments_lexer": "ipython3",
   "version": "3.10.6"
  },
  "vscode": {
   "interpreter": {
    "hash": "98b95ce4537a043c6c2f8047f97d2678115deb8444c76d437608d4f0db95d495"
   }
  }
 },
 "nbformat": 4,
 "nbformat_minor": 4
}
