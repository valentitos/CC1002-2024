{
 "cells": [
  {
   "cell_type": "markdown",
   "metadata": {},
   "source": [
    "<a href=\"https://colab.research.google.com/github/valentitos/CC1002-2024/blob/main/Clases/Clase_06_Recursion_2/Clase06_Recursion_2.ipynb\" target=\"_parent\"><img src=\"colab-badge.svg\" alt=\"Open In Colab\\\"/></a>"
   ]
  },
  {
   "cell_type": "markdown",
   "metadata": {},
   "source": [
    "# Clase 06: Recursión (parte 2)"
   ]
  },
  {
   "cell_type": "markdown",
   "metadata": {},
   "source": [
    "## Recuerdo Clase 05"
   ]
  },
  {
   "cell_type": "markdown",
   "metadata": {},
   "source": [
    "### Recursión"
   ]
  },
  {
   "cell_type": "markdown",
   "metadata": {},
   "source": [
    "Recursión es la forma en la cual se especifica o define un proceso o función, **basado en su propia definición**.\n",
    "\n",
    "Un problema que puede ser definido en función de su tamaño (ej: $N$), es resuelto de manera recursiva, si:\n",
    "\n",
    "- Este problema es dividido en instancias más pequeñas (de tamaño menor a $N$) del **mismo problema**\n",
    "\n",
    "- Se conoce una solución explicita para sus instancias más simples o pequeñas (por ej: para $N = 0$, o $N = 1$)\n",
    "\n",
    "- Cada problema pequeño tiende a acercarse o converger al caso base"
   ]
  },
  {
   "cell_type": "markdown",
   "metadata": {},
   "source": [
    "### Idea"
   ]
  },
  {
   "cell_type": "markdown",
   "metadata": {},
   "source": [
    "Supongamos que tenemos el problema de comernos una torta... Es imposible (?) que una persona pueda comer una torta entera de una sola vez! pero se puede pedir ayuda...\n",
    "\n",
    "Pensemos la solución de manera recursiva:\n",
    "\n",
    "- Si bien no puedo comer una torta entera, **puedo comer un trozo**\n",
    "\n",
    "- Luego, puedo **delegar** el problema a otra persona, **pasándole lo que queda de torta** y que intente comérsela\n",
    "\n",
    "- Las personas seguirán esta misma lógica, recibir la torta, comer lo que mas puedan (1 trozo) y luego **delegar el resto del problema** a otra persona\n",
    "\n",
    "- Eventualmente, el problema **terminará cuando ya no queden trozos de torta** y me avisen que se acabó\n",
    "\n",
    "Con esto:\n",
    "\n",
    "- La situación en donde se reduce el problema y se delega a alguien más (sacar un trozo de torta y pasar lo que queda de torta a otra persona), se conoce como el **paso recursivo**. Notar que el problema fue disminuyendo en tamaño a medida que avanzaban los pasos recursivos.\n",
    "\n",
    "- La situación donde se observa una situación fácil de resolver (si no quedan trozos de torta, entonces el problema se resolvió), se conoce como el **caso base**. Usualmente es un caso donde sabemos una solución evidente para el problema\n"
   ]
  },
  {
   "cell_type": "markdown",
   "metadata": {},
   "source": [
    "### Funciones Recursivas"
   ]
  },
  {
   "cell_type": "markdown",
   "metadata": {},
   "source": [
    "Para calcular el factorial, tuvimos que revisar su definición\n",
    "\n",
    "$$\n",
    "n! = n*(n-1)*(n-2)*...*2*1\n",
    "$$\n",
    "\n",
    "Y luego agrupamos términos de manera estratégica, para mostrar que corresponden a un sub-caso de la misma definición\n",
    "\n",
    "$$\n",
    "n! = n * \\underbrace{(n-1)*(n-2)*...*2*1}_{(n-1)!}\n",
    "$$\n",
    "\n",
    "Con lo cual pudimos deducir la siguiente definición recursiva de factorial:\n",
    "\n",
    "$$\n",
    "  n!=\\begin{cases}\n",
    "               n*(n-1)! & \\text{si $n>0$} \\\\\n",
    "               1 & \\text{si $n=0$}\n",
    "            \\end{cases}\n",
    "$$\n",
    "\n",
    "Con esto:\n",
    "\n",
    "```python\n",
    "----------------------------------------------\n",
    "# factorial: int -> int\n",
    "# entrega el factorial de un numero entero\n",
    "# ej: factorial(4) entrega 24\n",
    "def factorial(n):\n",
    "\n",
    "    # caso base\n",
    "    if n == 0:\n",
    "        return 1\n",
    "\n",
    "    # caso recursivo\n",
    "    return n * factorial(n-1)\n",
    "\n",
    "# test\n",
    "assert factorial(0) == 1\n",
    "assert factorial(4) == 24\n",
    "----------------------------------------------\n",
    "```\n",
    "\n",
    "Así:\n",
    "\n",
    "- El **factorial** de un número se define a si mismo, **usando la misma definición de factorial** para el número anterior.\n",
    "\n",
    "- En el Caso Base, entregamos una solución explicita para un escenario en que conocemos la solución\n",
    "\n",
    "  - En este caso, sabemos que el factorial de 0 es 1, por lo que lo entregamos como respuesta\n",
    "\n",
    "- En el Caso Recursivo, invocamos a la misma función, pero reduciendo el tamaño  del problema\n",
    "\n",
    "  - En este caso, tomamos el número N y lo multiplicamos con lo que resulte de calcular el factorial del número – 1\n",
    "\n",
    "  - Así, de a poquito, nos vamos acercando al caso base\n",
    "\n",
    "Gráficamente, ocurre algo como lo siguiente:\n",
    "\n",
    "<div><img src=\"diagrama_factorial.png\" width=\"65%;\"/></div>"
   ]
  },
  {
   "cell_type": "markdown",
   "metadata": {},
   "source": [
    "### ¿Como funcionan las invocaciones recursivas?"
   ]
  },
  {
   "cell_type": "markdown",
   "metadata": {},
   "source": [
    "\n",
    "<div><img src=\"factorial1_stack.png\" width=\"50%;\"/></div>\n",
    "\n",
    "<div><img src=\"factorial2_stack.png\" width=\"50%;\"/></div>"
   ]
  },
  {
   "cell_type": "markdown",
   "metadata": {},
   "source": [
    "### Error: Loops"
   ]
  },
  {
   "cell_type": "markdown",
   "metadata": {},
   "source": [
    "¿Qué ocurre si se nos **olvida colocar el caso base**, o **no reducir el tamaño del problema** en la recursión? Exacto! un bonito **Loop Recursivo**, Donde el programa se queda pegado en el mismo estado, y no avanzará o terminará jamás\n",
    "\n",
    "<div><img src=\"stackoverflow_2.png\" width=\"65%;\"/></div>\n"
   ]
  },
  {
   "cell_type": "markdown",
   "metadata": {},
   "source": [
    "### Consideraciones"
   ]
  },
  {
   "cell_type": "markdown",
   "metadata": {},
   "source": [
    "\n",
    "\n",
    "Siempre que se resuelva un problema por recursión, hay que:\n",
    "\n",
    "- Estudiar el problema\n",
    "\n",
    "- Identificar una instancia con una solución evidente (Caso Base)\n",
    "\n",
    "- Identificar como reducir el problema, para eventualmente llegar al Caso Base\n",
    "\n",
    "- Plantear el Caso Recursivo, invocando a la misma función, pero disminuyendo el tamaño del problema\n",
    "\n",
    "---"
   ]
  },
  {
   "cell_type": "markdown",
   "metadata": {},
   "source": [
    "## Las Torres de Hanoi"
   ]
  },
  {
   "cell_type": "markdown",
   "metadata": {},
   "source": [
    "Cuenta la leyenda, que existe un templo en Kashi Vishwanath (India), que contiene una gran sala con tres postes, en donde inicialmente habían 64 discos dorados en uno de esos postes, cada uno de estos disco, de distinto tamaño.\n",
    "\n",
    "Los monjes del templo, actuando bajo el mandato de una antigua profecía, deben mover toda la torre de discos de un poste a otro, con las siguientes restricciones:\n",
    "\n",
    "- Solo pueden mover 1 disco a la vez\n",
    "\n",
    "- No pueden colocar un disco grande sobre un disco de menor tamaño\n",
    "\n",
    "La leyenda dice que cuando estos monjes terminen de mover todos los discos... entonces el mundo terminará!!\n",
    "\n",
    "Contemos cuantos movimientos se necesitan para mover una torre de un pilar a otro:\n",
    "\n",
    "- Para el caso de una torre de 1 disco, la solución es 1 movimiento\n",
    "\n",
    "  <div><img src=\"img1_hanoi1.svg\" width=\"50%;\"/></div>\n",
    "\n",
    "Ahora veamos un ejemplo con 4 discos:\n",
    "\n",
    "- Primero hay que mover una subtorre de 3 discos a un pilar intermedio\n",
    "\n",
    "  <div><img src=\"img2_hanoi2.svg\" width=\"50%;\"/></div>\n",
    "\n",
    "- Luego, podemos mover el disco inferior al pilar final\n",
    "\n",
    "  <div><img src=\"img3_hanoi3.svg\" width=\"50%;\"/></div>\n",
    "\n",
    "- Finalmente, podemos mover la sub-torre de 3 discos sobre el disco mayor\n",
    "\n",
    "  <div><img src=\"img4_hanoi4.svg\" width=\"50%;\"/></div>\n",
    "\n",
    "Por lo que, para mover una torre de 4 discos, necesitamos:\n",
    "\n",
    "- Mover una torre de 3 discos a otro pilar\n",
    "\n",
    "- Mover el disco más grande al pilar objetivo\n",
    "\n",
    "- Mover una torre de 3 discos sobre el disco más grande\n",
    "\n",
    "Por lo que la relación es: `mover(4) = 1 + 2 * mover(3)`\n",
    "\n",
    "Y bueno... ¿Cuantos movimientos se necesitan en total?. Notemos que:\n",
    "\n",
    "<div><img src=\"img5_hanoi5.svg\" width=\"50%;\"/></div>\n",
    "\n",
    "Luego...\n",
    "\n",
    "<div><img src=\"img6_hanoi6.svg\" width=\"50%;\"/></div>\n",
    "\n",
    "Así, podemos deducir la siguiente definición recursiva:\n",
    "\n",
    "$$\n",
    "hanoi(n) = \\begin{cases}\n",
    "               1 + 2*hanoi(n-1) & \\text{si $n>1$} \\\\\n",
    "               1 & \\text{si $n=1$}\n",
    "            \\end{cases}\n",
    "$$\n",
    "\n",
    "\n",
    "En el link [http://towersofhanoi.info/Animate.aspx](http://towersofhanoi.info/Animate.aspx) se encuentra una versión animada del problema.\n"
   ]
  },
  {
   "cell_type": "code",
   "execution_count": 1,
   "metadata": {},
   "outputs": [],
   "source": [
    "# hanoi: int -> int\n",
    "# calcula la cantidad de movimientos necesarios para resolver las torres de Hanoi\n",
    "# Ej: hanoi(4) entrega 15\n",
    "def hanoi(n):\n",
    "\n",
    "    # caso base\n",
    "    if n == 1:\n",
    "        return 1\n",
    "    # caso recursivo\n",
    "    else:\n",
    "        return 1 + 2 * hanoi(n-1)\n",
    "\n",
    "# test\n",
    "assert hanoi(1) == 1\n",
    "assert hanoi(4) == 15"
   ]
  },
  {
   "cell_type": "code",
   "execution_count": 2,
   "metadata": {},
   "outputs": [
    {
     "data": {
      "text/plain": [
       "15"
      ]
     },
     "execution_count": 2,
     "metadata": {},
     "output_type": "execute_result"
    }
   ],
   "source": [
    "hanoi(4)"
   ]
  },
  {
   "cell_type": "code",
   "execution_count": 3,
   "metadata": {},
   "outputs": [
    {
     "data": {
      "text/plain": [
       "3"
      ]
     },
     "execution_count": 3,
     "metadata": {},
     "output_type": "execute_result"
    }
   ],
   "source": [
    "hanoi(2)"
   ]
  },
  {
   "cell_type": "markdown",
   "metadata": {},
   "source": [
    "- Caso base: Si la torre es de tamaño 1, entonces \"cuesta\" un movimiento\n",
    "\n",
    "- Caso Recursivo: Calculamos cuanto \"cuesta\" el viaje de ida y vuelta de la torre de tamaño menor y le sumamos 1 por el costo de mover la base de un pilar a otro\n",
    "\n",
    "Si volvemos a la inquietud inicial...\n",
    "\n",
    "- Para 4 discos, necesitamos 15 movimientos\n",
    "\n",
    "- Para 10 discos, necesitamos 1023 movimientos\n",
    "\n",
    "- Para 25 discos, necesitamos 33554431 movimientos\n",
    "\n",
    "- Para 64 discos, necesitamos aprox. $2^{64}$ movimientos\n",
    "\n",
    "Si suponemos que cada movimiento demora 1 segundo, entonces el mundo se acabará en 585 mil millones de años (El universo tiene ~14 mil millones de años)\n",
    "\n",
    "---"
   ]
  },
  {
   "cell_type": "markdown",
   "metadata": {},
   "source": [
    "## Un problema curioso..."
   ]
  },
  {
   "cell_type": "markdown",
   "metadata": {},
   "source": [
    "\n",
    "- Una pareja de conejos bebé se escapó al bosque\n",
    "\n",
    "- En un mes ya son adultos\n",
    "\n",
    "- Al mes siguiente tienen un par de crías\n",
    "\n",
    "  <div><img src=\"img7_fib1.svg\" width=\"50%;\"/></div>\n",
    "\n",
    "- Al mes siguiente, la pareja inicial vuelve a tener un par de crías, y la primera pareja de hijos ya es adulta\n",
    "\n",
    "- Al mes siguiente, la pareja inicial vuelven a tener un par de crías, la primera pareja de hijos ya tienen su primer par de crías, y la segunda pareja de hijos ya es adulta…\n",
    "\n",
    "\n",
    "Siguiendo esta lógica ¿Es posible saber cuantos conejos habrán en un mes dado? Notemos que las parejas de conejos van aumentando en: `1, 1, 2, 3, 5, 8, 13...`\n",
    "\n",
    "<div><img src=\"img8_fib2.svg\" width=\"30%;\"/></div>\n",
    "\n",
    "Esta serie de números fue descrita por Leonardo de Pisa, Matemático Italiano del siglo XIII, también conocido como Fibonacci. Estos números son una secuencia de la forma:\n",
    "\n",
    "`0, 1, 1, 2, 3, 5, 8, 13, 21, 34, 55...`\n",
    "\n",
    "Donde notamos que cada elemento es la suma de los 2 anteriores. Con esto, podemos dar la siguiente definición de esta serie de números\n",
    "\n",
    "$$\n",
    "Fib_{n} = \\begin{cases}\n",
    "               0 & \\text{si $n=0$} \\\\\n",
    "               1 & \\text{si $n=1$} \\\\\n",
    "               Fib_{n-1} + Fib_{n-2}  & \\text{si $n>=2$}\n",
    "            \\end{cases}\n",
    "$$"
   ]
  },
  {
   "cell_type": "code",
   "execution_count": 2,
   "metadata": {},
   "outputs": [],
   "source": [
    "# fibonacci: int -> int\n",
    "# calcula el n-esimo numero de la sucesión de fibonacci\n",
    "# ej: fibonacci(7) entrega 13\n",
    "def fibonacci(n):\n",
    "    \n",
    "    # caso base 1\n",
    "    if n == 0:\n",
    "        return 0\n",
    "    \n",
    "    # caso base 2\n",
    "    if n == 1:\n",
    "        return 1\n",
    "    \n",
    "    # caso recursivo\n",
    "    return fibonacci(n-1) + fibonacci(n-2)\n",
    "\n",
    "# Test\n",
    "assert fibonacci(1) == 1\n",
    "assert fibonacci(7) == 13"
   ]
  },
  {
   "cell_type": "markdown",
   "metadata": {},
   "source": [
    "- **Caso Base**: Está permitido tener más de un caso base\n",
    "\n",
    "- **Caso Recursivo**: Podemos invocar más de una recursión a la vez\n",
    "\n",
    "---"
   ]
  },
  {
   "cell_type": "markdown",
   "metadata": {},
   "source": [
    "## Funciones *ciclicas* (Sumar números)"
   ]
  },
  {
   "cell_type": "markdown",
   "metadata": {},
   "source": [
    "Escribamos una **función recursiva interactiva**, que le pida a una persona ingresar números positivos sucesivamente. Cuando la persona ingrese un número negativo, entonces se muestra en pantalla la suma de todos los números ingresados previamente (sin considerar el número negativo) \n",
    "\n",
    "Ejemplo de diálogo:\n",
    "\n",
    "```\n",
    ">>> sumainteractiva()\n",
    "    número? 7\n",
    "    número? 3\n",
    "    número? 4\n",
    "    número? 8\n",
    "    número? -2\n",
    "    la suma es: 22 \n",
    ">>> \n",
    "```\n",
    "\n",
    "La responsabilidad de la función en estos casos es **manejar una ronda de interacción**. Para este problema es:\n",
    "\n",
    "- Pedir que **ingresen un número**\n",
    "  \n",
    "  - Si el número es negativo, entonces mostrar la suma total y terminar el programa\n",
    "\n",
    "  - Si el número es positivo, entonces agregarlo a la suma y **volver a pedir que ingresen un número**\n",
    "\n",
    "Esta manifestación de ingresar un número, hacer algo, y luego volver a ingresar un número, corresponde al efecto de hacer un **llamado recursivo para repetir la misma acción**\n",
    "\n",
    "Luego, para ir **guardando la suma parcial** entre llamados recursivos, podemos usar una variable por omisión. Por lo que la función recursiva la podemos planear de la siguiente forma:\n",
    "\n",
    "- Pedir que ingresen un número\n",
    "\n",
    "- Caso Base: Si ingresan un número negativo, entonces mostramos la suma en pantalla y termina el programa\n",
    "\n",
    "- Caso Recursivo: Si ingresan un número positivo, entonces lo agregamos a la suma parcial, y re-invocamos a la función para repetir el proceso\n",
    "\n",
    "<div><img src=\"sumainteractiva.png\" width=\"50%;\"/></div>\n",
    "\n",
    "Nos mantenemos en un estado cíclico de preguntar por un número y agregarlo a nuestra suma. Hasta que nos ingresen un número negativo\n"
   ]
  },
  {
   "cell_type": "code",
   "execution_count": 3,
   "metadata": {},
   "outputs": [],
   "source": [
    "# sumainteractiva: None (num) -> None\n",
    "# pregunta a una persona por numeros positivos hasta que ingresen un numero negativo.\n",
    "# Luego, imprime la suma de los numeros\n",
    "# ej: sumainteractiva() inicia el programa\n",
    "def sumainteractiva(suma = 0):\n",
    "\n",
    "    n = float(input(\"número? \"))\n",
    "\n",
    "    # caso base\n",
    "    if n < 0:\n",
    "        print(\"la suma es: \", suma)\n",
    "        return None\n",
    "\n",
    "    #caso recursivo\n",
    "    suma = suma + n\n",
    "    return sumainteractiva(suma)"
   ]
  },
  {
   "cell_type": "markdown",
   "metadata": {},
   "source": [
    "- Los parámetros por omisión se colocan con paréntesis en el contrato\n",
    "\n",
    "- La variable por omisión `suma` nos ayuda a guardar información entre llamados consecutivos de la función\n",
    "(inicialmente la suma es 0)\n",
    "\n",
    "- **Caso Base**: Mostramos en pantalla el valor de suma que tenemos guardado y termina el programa\n",
    "\n",
    "- **Caso Recursivo**: Actualizamos la suma y hacemos un llamado recursivo para repetir el proceso\n",
    "\n",
    "---\n",
    "\n"
   ]
  },
  {
   "cell_type": "markdown",
   "metadata": {},
   "source": [
    "## Módulo Turtle"
   ]
  },
  {
   "cell_type": "markdown",
   "metadata": {},
   "source": [
    "Idea original del lenguaje de programación Logo, desarrollado en 1996 por Wally Feurzig y Seymour Papert. Consiste en una tortuga que puede moverse por la pantalla, dibujando (o no) su trayecto\n",
    "\n",
    "<div><img src=\"img10_turtle.svg\" width=\"30%;\"/></div>\n",
    "\n",
    "- La tortuga parte siempre **mirando hacia la derecha** en las coordenadas $(0,0)$\n",
    "  \n",
    "  - (si están trabajando en colab, en ese caso inicia mirando hacia arriba)\n",
    "  \n",
    "- Los movimientos de giro siempre son relativos hacia donde se encuentra mirando la tortuga\n",
    "\n",
    "Veamos algunas funcionalidades:"
   ]
  },
  {
   "cell_type": "markdown",
   "metadata": {},
   "source": [
    "--- \n",
    "\n",
    "### Consideración: Turtle en colab\n",
    "\n",
    "Para ejecutar Turtle en colab, tenemos que ejecutar las siguientes 2 celdas:"
   ]
  },
  {
   "cell_type": "code",
   "execution_count": 1,
   "metadata": {},
   "outputs": [
    {
     "name": "stdout",
     "output_type": "stream",
     "text": [
      "Defaulting to user installation because normal site-packages is not writeable\n",
      "Collecting ColabTurtle\n",
      "  Downloading ColabTurtle-2.1.0.tar.gz (6.8 kB)\n",
      "  Installing build dependencies: started\n",
      "  Installing build dependencies: finished with status 'done'\n",
      "  Getting requirements to build wheel: started\n",
      "  Getting requirements to build wheel: finished with status 'done'\n",
      "  Preparing metadata (pyproject.toml): started\n",
      "  Preparing metadata (pyproject.toml): finished with status 'done'\n",
      "Building wheels for collected packages: ColabTurtle\n",
      "  Building wheel for ColabTurtle (pyproject.toml): started\n",
      "  Building wheel for ColabTurtle (pyproject.toml): finished with status 'done'\n",
      "  Created wheel for ColabTurtle: filename=ColabTurtle-2.1.0-py3-none-any.whl size=7647 sha256=c214a7e5e53797ac6fcc1ab8cf825eca7a3cf9a4db1d44826ad17323e0df106f\n",
      "  Stored in directory: c:\\users\\titox\\appdata\\local\\pip\\cache\\wheels\\9f\\af\\64\\ffd85f9858ed7d56b7293dcedbc9d461bf13c8cfc97e352bc8\n",
      "Successfully built ColabTurtle\n",
      "Installing collected packages: ColabTurtle\n",
      "Successfully installed ColabTurtle-2.1.0\n"
     ]
    }
   ],
   "source": [
    "!pip3 install ColabTurtle\n",
    "import ColabTurtle.Turtle as turtle"
   ]
  },
  {
   "cell_type": "markdown",
   "metadata": {},
   "source": [
    "Y cada vez, que necesitemos ejecutar un código turtle en colab, tenemos que escribir la siguiente linea antes de empezar a dibujar\n",
    "```\n",
    "initializeTurtle(initial_speed=5)\n",
    "```\n",
    "\n",
    "Y otro detalle... **la tortuga de colab, parte mirando hacia arriba**, asi que previamente tambien tenemos que decirle que gire 90° a la derecha\n",
    "\n",
    "---"
   ]
  },
  {
   "cell_type": "markdown",
   "metadata": {},
   "source": [
    "---\n",
    "\n",
    "``shape`` permite cambiar la forma del \"puntero\" (inicialmente es una flecha)\n"
   ]
  },
  {
   "cell_type": "code",
   "execution_count": null,
   "metadata": {},
   "outputs": [],
   "source": [
    "turtle.shape(\"turtle\")"
   ]
  },
  {
   "cell_type": "markdown",
   "metadata": {},
   "source": [
    "<div><img src=\"turtle_neo1.png\" width=\"25%;\"/></div>\n"
   ]
  },
  {
   "cell_type": "markdown",
   "metadata": {},
   "source": [
    "---\n",
    "\n",
    "`forward` permite que se mueva una distancia hacia delante, en la dirección que está mirando\n"
   ]
  },
  {
   "cell_type": "code",
   "execution_count": null,
   "metadata": {},
   "outputs": [],
   "source": [
    "turtle.shape(\"turtle\")\n",
    "turtle.forward(200)"
   ]
  },
  {
   "cell_type": "markdown",
   "metadata": {},
   "source": [
    "<div><img src=\"turtle_neo2.png\" width=\"25%;\"/></div>"
   ]
  },
  {
   "cell_type": "markdown",
   "metadata": {},
   "source": [
    "---\n",
    "\n",
    "`left` permite que gire una cierta cantidad de grados hacía la izquierda, relativo hacía donde está mirando actualmente\n"
   ]
  },
  {
   "cell_type": "code",
   "execution_count": null,
   "metadata": {},
   "outputs": [],
   "source": [
    "\n",
    "turtle.shape(\"turtle\")\n",
    "turtle.forward(200)\n",
    "turtle.left(120)"
   ]
  },
  {
   "cell_type": "markdown",
   "metadata": {},
   "source": [
    "<div><img src=\"turtle_neo3.png\" width=\"25%;\"/></div>"
   ]
  },
  {
   "cell_type": "markdown",
   "metadata": {},
   "source": [
    "---\n",
    "\n",
    "Ahora al moverse, seguirá la dirección en la que está mirando\n"
   ]
  },
  {
   "cell_type": "code",
   "execution_count": null,
   "metadata": {},
   "outputs": [],
   "source": [
    "turtle.shape(\"turtle\")\n",
    "turtle.forward(200)\n",
    "turtle.left(120)\n",
    "turtle.forward(200)"
   ]
  },
  {
   "cell_type": "markdown",
   "metadata": {},
   "source": [
    "<div><img src=\"turtle_neo4.png\" width=\"25%;\"/></div>"
   ]
  },
  {
   "cell_type": "markdown",
   "metadata": {},
   "source": [
    "---\n",
    "\n",
    "`right` permite que gire una cierta cantidad de grados hacía la derecha, relativo hacía donde está mirando actualmente. Como el giro se hace dentro de un círculo, notemos que es equivalente:\n",
    "\n",
    "- ``left(G)``\n",
    "- ``right(360-G)``\n"
   ]
  },
  {
   "cell_type": "code",
   "execution_count": null,
   "metadata": {},
   "outputs": [],
   "source": [
    "turtle.shape(\"turtle\")\n",
    "turtle.forward(200)\n",
    "turtle.left(120)\n",
    "turtle.forward(200)\n",
    "turtle.right(240)"
   ]
  },
  {
   "cell_type": "markdown",
   "metadata": {},
   "source": [
    "<div><img src=\"turtle_neo5.png\" width=\"25%;\"/></div>\n",
    "---"
   ]
  },
  {
   "cell_type": "markdown",
   "metadata": {},
   "source": [
    "\n",
    "Las funciones básicas del módulo son:\n",
    "\n",
    "| Función | Significado |\n",
    "|--|--|\n",
    "| `turtle.forward(x)`| La tortuga avanza `x` pasos hacía donde esté mirando la tortuga |\n",
    "| `turtle.back(x)`| La tortuga se devuelve `x` pasos |\n",
    "| `turtle.left(ang)`| La tortuga gira a la izquierda `ang` grados |\n",
    "| `turtle.right(ang)`| La tortuga gira a la derecha `ang` grados |\n",
    "| `turtle.penup()`| Levanta el lápiz de dibujo (no pinta el camino) |\n",
    "| `turtle.pendown()`| Baja el lápiz de dibujo (pinta el camino) |\n",
    "| `turtle.shape('turtle')`| Cambia la figura a una tortuga (solo estético) |\n",
    "| `turtle.speed(n)`| Cambia la velocidad de dibujo (`n=0` es la velocidad máxima)|\n",
    "| `turtle.done()`| Cuando queremos dejar de dibujar definitivamente. Es la última instrucción a ejecutar |"
   ]
  },
  {
   "cell_type": "markdown",
   "metadata": {},
   "source": [
    "**Ejemplo**: dibujar un cuadrado de tamaño 50"
   ]
  },
  {
   "cell_type": "code",
   "execution_count": 4,
   "metadata": {},
   "outputs": [
    {
     "data": {
      "text/html": [
       "\n",
       "      <svg width=\"800\" height=\"500\">\n",
       "        <rect width=\"100%\" height=\"100%\" fill=\"black\"/>\n",
       "        <line x1=\"400\" y1=\"250\" x2=\"450.0\" y2=\"250.0\" stroke-linecap=\"round\" style=\"stroke:white;stroke-width:4\"/><line x1=\"450.0\" y1=\"250.0\" x2=\"450.0\" y2=\"200.0\" stroke-linecap=\"round\" style=\"stroke:white;stroke-width:4\"/><line x1=\"450.0\" y1=\"200.0\" x2=\"400.0\" y2=\"200.0\" stroke-linecap=\"round\" style=\"stroke:white;stroke-width:4\"/><line x1=\"400.0\" y1=\"200.0\" x2=\"400.0\" y2=\"250.0\" stroke-linecap=\"round\" style=\"stroke:white;stroke-width:4\"/>\n",
       "        <g visibility=visible transform=\"rotate(90,400.0,250.0) translate(382.0, 232.0)\">\n",
       "<path style=\" stroke:none;fill-rule:evenodd;fill:white;fill-opacity:1;\" d=\"M 18.214844 0.632812 C 16.109375 1.800781 15.011719 4.074219 15.074219 7.132812 L 15.085938 7.652344 L 14.785156 7.496094 C 13.476562 6.824219 11.957031 6.671875 10.40625 7.066406 C 8.46875 7.550781 6.515625 9.15625 4.394531 11.992188 C 3.0625 13.777344 2.679688 14.636719 3.042969 15.027344 L 3.15625 15.152344 L 3.519531 15.152344 C 4.238281 15.152344 4.828125 14.886719 8.1875 13.039062 C 9.386719 12.378906 10.371094 11.839844 10.378906 11.839844 C 10.386719 11.839844 10.355469 11.929688 10.304688 12.035156 C 9.832031 13.09375 9.257812 14.820312 8.96875 16.078125 C 7.914062 20.652344 8.617188 24.53125 11.070312 27.660156 C 11.351562 28.015625 11.363281 27.914062 10.972656 28.382812 C 8.925781 30.84375 7.945312 33.28125 8.238281 35.1875 C 8.289062 35.527344 8.28125 35.523438 8.917969 35.523438 C 10.941406 35.523438 13.074219 34.207031 15.136719 31.6875 C 15.359375 31.417969 15.328125 31.425781 15.5625 31.574219 C 16.292969 32.042969 18.023438 32.964844 18.175781 32.964844 C 18.335938 32.964844 19.941406 32.210938 20.828125 31.71875 C 20.996094 31.625 21.136719 31.554688 21.136719 31.558594 C 21.203125 31.664062 21.898438 32.414062 22.222656 32.730469 C 23.835938 34.300781 25.5625 35.132812 27.582031 35.300781 C 27.90625 35.328125 27.9375 35.308594 28.007812 34.984375 C 28.382812 33.242188 27.625 30.925781 25.863281 28.425781 L 25.542969 27.96875 L 25.699219 27.785156 C 28.945312 23.960938 29.132812 18.699219 26.257812 11.96875 L 26.207031 11.84375 L 27.945312 12.703125 C 31.53125 14.476562 32.316406 14.800781 33.03125 14.800781 C 33.976562 14.800781 33.78125 13.9375 32.472656 12.292969 C 28.519531 7.355469 25.394531 5.925781 21.921875 7.472656 L 21.558594 7.636719 L 21.578125 7.542969 C 21.699219 6.992188 21.761719 5.742188 21.699219 5.164062 C 21.496094 3.296875 20.664062 1.964844 19.003906 0.855469 C 18.480469 0.503906 18.457031 0.5 18.214844 0.632812\"/>\n",
       "</g>\n",
       "      </svg>\n",
       "    "
      ],
      "text/plain": [
       "<IPython.core.display.HTML object>"
      ]
     },
     "metadata": {},
     "output_type": "display_data"
    }
   ],
   "source": [
    "#turtle.initializeTurtle(initial_speed=5)\n",
    "#turtle.right(90)\n",
    "turtle.forward(50)\n",
    "turtle.left(90)\n",
    "turtle.forward(50)\n",
    "turtle.left(90)\n",
    "turtle.forward(50)\n",
    "turtle.left(90)\n",
    "turtle.forward(50)\n",
    "turtle.left(90)"
   ]
  },
  {
   "cell_type": "markdown",
   "metadata": {},
   "source": [
    "**Ejemplo**: generalizando lo anterior a una función para dibujar un cuadrado de tamaño `L`"
   ]
  },
  {
   "cell_type": "code",
   "execution_count": 5,
   "metadata": {},
   "outputs": [],
   "source": [
    "#import turtle\n",
    "import ColabTurtle.Turtle as turtle\n",
    "\n",
    "# cuadrado: int -> None\n",
    "# dibuja un cuadrado de lado L\n",
    "# ej: cuadrado(100)\n",
    "def cuadrado(L):\n",
    "\n",
    "    turtle.forward(L)\n",
    "    turtle.left(90)\n",
    "    turtle.forward(L)\n",
    "    turtle.left(90)\n",
    "    turtle.forward(L)\n",
    "    turtle.left(90)\n",
    "    turtle.forward(L)\n",
    "    turtle.left(90)\n"
   ]
  },
  {
   "cell_type": "code",
   "execution_count": 7,
   "metadata": {},
   "outputs": [
    {
     "data": {
      "text/html": [
       "\n",
       "      <svg width=\"800\" height=\"500\">\n",
       "        <rect width=\"100%\" height=\"100%\" fill=\"black\"/>\n",
       "        <line x1=\"400\" y1=\"250\" x2=\"500.0\" y2=\"250.0\" stroke-linecap=\"round\" style=\"stroke:white;stroke-width:4\"/><line x1=\"500.0\" y1=\"250.0\" x2=\"500.0\" y2=\"150.0\" stroke-linecap=\"round\" style=\"stroke:white;stroke-width:4\"/><line x1=\"500.0\" y1=\"150.0\" x2=\"400.0\" y2=\"150.0\" stroke-linecap=\"round\" style=\"stroke:white;stroke-width:4\"/><line x1=\"400.0\" y1=\"150.0\" x2=\"400.0\" y2=\"250.0\" stroke-linecap=\"round\" style=\"stroke:white;stroke-width:4\"/>\n",
       "        <g visibility=visible transform=\"rotate(90,400.0,250.0) translate(382.0, 232.0)\">\n",
       "<path style=\" stroke:none;fill-rule:evenodd;fill:white;fill-opacity:1;\" d=\"M 18.214844 0.632812 C 16.109375 1.800781 15.011719 4.074219 15.074219 7.132812 L 15.085938 7.652344 L 14.785156 7.496094 C 13.476562 6.824219 11.957031 6.671875 10.40625 7.066406 C 8.46875 7.550781 6.515625 9.15625 4.394531 11.992188 C 3.0625 13.777344 2.679688 14.636719 3.042969 15.027344 L 3.15625 15.152344 L 3.519531 15.152344 C 4.238281 15.152344 4.828125 14.886719 8.1875 13.039062 C 9.386719 12.378906 10.371094 11.839844 10.378906 11.839844 C 10.386719 11.839844 10.355469 11.929688 10.304688 12.035156 C 9.832031 13.09375 9.257812 14.820312 8.96875 16.078125 C 7.914062 20.652344 8.617188 24.53125 11.070312 27.660156 C 11.351562 28.015625 11.363281 27.914062 10.972656 28.382812 C 8.925781 30.84375 7.945312 33.28125 8.238281 35.1875 C 8.289062 35.527344 8.28125 35.523438 8.917969 35.523438 C 10.941406 35.523438 13.074219 34.207031 15.136719 31.6875 C 15.359375 31.417969 15.328125 31.425781 15.5625 31.574219 C 16.292969 32.042969 18.023438 32.964844 18.175781 32.964844 C 18.335938 32.964844 19.941406 32.210938 20.828125 31.71875 C 20.996094 31.625 21.136719 31.554688 21.136719 31.558594 C 21.203125 31.664062 21.898438 32.414062 22.222656 32.730469 C 23.835938 34.300781 25.5625 35.132812 27.582031 35.300781 C 27.90625 35.328125 27.9375 35.308594 28.007812 34.984375 C 28.382812 33.242188 27.625 30.925781 25.863281 28.425781 L 25.542969 27.96875 L 25.699219 27.785156 C 28.945312 23.960938 29.132812 18.699219 26.257812 11.96875 L 26.207031 11.84375 L 27.945312 12.703125 C 31.53125 14.476562 32.316406 14.800781 33.03125 14.800781 C 33.976562 14.800781 33.78125 13.9375 32.472656 12.292969 C 28.519531 7.355469 25.394531 5.925781 21.921875 7.472656 L 21.558594 7.636719 L 21.578125 7.542969 C 21.699219 6.992188 21.761719 5.742188 21.699219 5.164062 C 21.496094 3.296875 20.664062 1.964844 19.003906 0.855469 C 18.480469 0.503906 18.457031 0.5 18.214844 0.632812\"/>\n",
       "</g>\n",
       "      </svg>\n",
       "    "
      ],
      "text/plain": [
       "<IPython.core.display.HTML object>"
      ]
     },
     "metadata": {},
     "output_type": "display_data"
    }
   ],
   "source": [
    "#turtle.initializeTurtle(initial_speed=5)\n",
    "#turtle.right(90)\n",
    "cuadrado(100)\n",
    "turtle.done()"
   ]
  },
  {
   "cell_type": "markdown",
   "metadata": {},
   "source": [
    "---"
   ]
  },
  {
   "cell_type": "markdown",
   "metadata": {},
   "source": [
    "## Fractales"
   ]
  },
  {
   "cell_type": "markdown",
   "metadata": {},
   "source": [
    "Objeto geométrico cuya estructura principal se repite a distintas escalas. Es decir, su forma está hecha de copias más pequeñas de su misma figura.\n",
    "\n",
    "<div><img src=\"img11_fractal1.svg\" width=\"35%;\"/><img src=\"img12_fractal2.svg\" width=\"35%;\"/></div>\n"
   ]
  },
  {
   "cell_type": "markdown",
   "metadata": {},
   "source": [
    "### Triángulo de Sierpinski"
   ]
  },
  {
   "cell_type": "markdown",
   "metadata": {},
   "source": [
    "Escribamos una función que nos permita construir el Triángulo de Sierpinski. Esta función recibe 2 parámetros: la **medida del Lado** de la figura base, y la **profundidad** fractal. La forma base corresponde a un triángulo equilátero, y en cada llamado recursivo, el Largo disminuye a la mitad.\n",
    "\n",
    "<div><img src=\"img13_triangulo.svg\" width=\"65%;\"/></div>\n"
   ]
  },
  {
   "cell_type": "markdown",
   "metadata": {},
   "source": [
    "**Caso Base**: Identificamos que la figura base es un triángulo equilátero, por lo que hay que pedirle a la tortuga que dibuje:\n",
    "\n",
    "- El trazo de 1 a 2\n",
    "\n",
    "- Girar 120° hacia la izq\n",
    "\n",
    "- El trazo de 2 a 3\n",
    "\n",
    "- Girar 120° hacia la izq\n",
    "\n",
    "- El trazo de 3 a 1\n",
    "\n",
    "- Girar 120° hacia la izq\n",
    "\n",
    "<div><img src=\"img14_triangulo2.svg\" width=\"35%;\"/></div>\n",
    "\n",
    "Es \"buena costumbre\" dejar que la tortuga quede mirando en la misma dirección en la cual empezó."
   ]
  },
  {
   "cell_type": "markdown",
   "metadata": {},
   "source": [
    "**Caso Recursivo**: Teniendo un triángulo equilátero cualquiera, tenemos que dibujar tres triángulos equiláteros más pequeños\n",
    "\n",
    "<div><img src=\"triangulo_rect1.png\" width=\"30%;\"/></div>\n",
    "\n",
    "\n",
    "- Desde el vértice 1, dibujar un triángulo\n",
    "\n",
    "<div><img src=\"triangulo_rect2.png\" width=\"30%;\"/></div>\n",
    "\n",
    "<div><img src=\"triangulo_rect3.png\" width=\"30%;\"/></div>\n",
    "\n",
    "- Avanzar al vértice 2\n",
    "\n",
    "<div><img src=\"triangulo_rect4.png\" width=\"30%;\"/></div>\n",
    "\n",
    "- Desde el vértice 2, dibujar un triángulo\n",
    "\n",
    "<div><img src=\"triangulo_rect5.png\" width=\"30%;\"/></div>\n",
    "\n",
    "<div><img src=\"triangulo_rect6.png\" width=\"30%;\"/></div>\n",
    "\n",
    "- Girar 120° a la izquierda y avanzar al vértice 3\n",
    "\n",
    "- Girar 120° a la derecha, para que la tortuga quede bien orientada para dibujar el siguiente triángulo\n",
    "\n",
    "<div><img src=\"triangulo_rect7.png\" width=\"30%;\"/></div>\n",
    "\n",
    "- Desde el vértice 3, dibujar un triángulo\n",
    "\n",
    "<div><img src=\"triangulo_rect8.png\" width=\"30%;\"/></div>\n",
    "\n",
    "<div><img src=\"triangulo_rect9.png\" width=\"30%;\"/></div>\n",
    "\n",
    "Para volver al punto inicial\n",
    "\n",
    "- Girar 120° a la derecha\n",
    "\n",
    "- Avanzar al vértice 1\n",
    "\n",
    "- Girar 120° a la izquierda\n",
    "\n",
    "<div><img src=\"triangulo_rect10.png\" width=\"30%;\"/></div>\n",
    "\n"
   ]
  },
  {
   "cell_type": "code",
   "execution_count": 9,
   "metadata": {},
   "outputs": [],
   "source": [
    "#import turtle\n",
    "import ColabTurtle.Turtle as turtle\n",
    "\n",
    "# fractal_triangulo: int int -> None\n",
    "# dibuja un fractal del triángulo de sierpinski\n",
    "def fractal_triangulo(L, nivel):\n",
    "\n",
    "    # Caso Base\n",
    "    if nivel == 1:\n",
    "        turtle.forward(L)\n",
    "        turtle.left(120)\n",
    "        turtle.forward(L)\n",
    "        turtle.left(120)\n",
    "        turtle.forward(L)\n",
    "        turtle.left(120)\n",
    "        return None\n",
    "\n",
    "    # Caso Recursivo\n",
    "    fractal_triangulo(L/2, nivel - 1)\n",
    "    turtle.forward(L/2)\n",
    "    fractal_triangulo(L/2, nivel - 1)\n",
    "    turtle.left(120)\n",
    "    turtle.forward(L/2)\n",
    "    turtle.right(120)\n",
    "    fractal_triangulo(L/2, nivel - 1)\n",
    "    turtle.right(120)\n",
    "    turtle.forward(L/2)\n",
    "    turtle.left(120)"
   ]
  },
  {
   "cell_type": "markdown",
   "metadata": {},
   "source": [
    "- Los dibujos de turtle no son considerados como respuesta de una función en el contrato\n",
    "\n",
    "- Caso base: Si nos piden dibujar un fractal de nivel 1, entonces dibujamos un triángulo equilátero simple\n",
    "\n",
    "\n",
    "- Caso Recursivo: Hacemos el recorrido descrito anteriormente, cuidando de que los triángulos a dibujar tienen la mitad del tamaño original, y disminuyen en 1 el nivel del fractal\n",
    "\n",
    "---"
   ]
  },
  {
   "cell_type": "code",
   "execution_count": 10,
   "metadata": {},
   "outputs": [
    {
     "data": {
      "text/html": [
       "\n",
       "      <svg width=\"800\" height=\"500\">\n",
       "        <rect width=\"100%\" height=\"100%\" fill=\"black\"/>\n",
       "        <line x1=\"400\" y1=\"250\" x2=\"437.5\" y2=\"250.0\" stroke-linecap=\"round\" style=\"stroke:white;stroke-width:4\"/><line x1=\"437.5\" y1=\"250.0\" x2=\"418.75\" y2=\"217.524\" stroke-linecap=\"round\" style=\"stroke:white;stroke-width:4\"/><line x1=\"418.75\" y1=\"217.524\" x2=\"400.0\" y2=\"250.0\" stroke-linecap=\"round\" style=\"stroke:white;stroke-width:4\"/><line x1=\"400.0\" y1=\"250.0\" x2=\"437.5\" y2=\"250.0\" stroke-linecap=\"round\" style=\"stroke:white;stroke-width:4\"/><line x1=\"437.5\" y1=\"250.0\" x2=\"475.0\" y2=\"250.0\" stroke-linecap=\"round\" style=\"stroke:white;stroke-width:4\"/><line x1=\"475.0\" y1=\"250.0\" x2=\"456.25\" y2=\"217.524\" stroke-linecap=\"round\" style=\"stroke:white;stroke-width:4\"/><line x1=\"456.25\" y1=\"217.524\" x2=\"437.5\" y2=\"250.0\" stroke-linecap=\"round\" style=\"stroke:white;stroke-width:4\"/><line x1=\"437.5\" y1=\"250.0\" x2=\"418.75\" y2=\"217.524\" stroke-linecap=\"round\" style=\"stroke:white;stroke-width:4\"/><line x1=\"418.75\" y1=\"217.524\" x2=\"456.25\" y2=\"217.524\" stroke-linecap=\"round\" style=\"stroke:white;stroke-width:4\"/><line x1=\"456.25\" y1=\"217.524\" x2=\"437.5\" y2=\"185.048\" stroke-linecap=\"round\" style=\"stroke:white;stroke-width:4\"/><line x1=\"437.5\" y1=\"185.048\" x2=\"418.75\" y2=\"217.524\" stroke-linecap=\"round\" style=\"stroke:white;stroke-width:4\"/><line x1=\"418.75\" y1=\"217.524\" x2=\"400.0\" y2=\"250.0\" stroke-linecap=\"round\" style=\"stroke:white;stroke-width:4\"/><line x1=\"400.0\" y1=\"250.0\" x2=\"475.0\" y2=\"250.0\" stroke-linecap=\"round\" style=\"stroke:white;stroke-width:4\"/><line x1=\"475.0\" y1=\"250.0\" x2=\"512.5\" y2=\"250.0\" stroke-linecap=\"round\" style=\"stroke:white;stroke-width:4\"/><line x1=\"512.5\" y1=\"250.0\" x2=\"493.75\" y2=\"217.524\" stroke-linecap=\"round\" style=\"stroke:white;stroke-width:4\"/><line x1=\"493.75\" y1=\"217.524\" x2=\"475.0\" y2=\"250.0\" stroke-linecap=\"round\" style=\"stroke:white;stroke-width:4\"/><line x1=\"475.0\" y1=\"250.0\" x2=\"512.5\" y2=\"250.0\" stroke-linecap=\"round\" style=\"stroke:white;stroke-width:4\"/><line x1=\"512.5\" y1=\"250.0\" x2=\"550.0\" y2=\"250.0\" stroke-linecap=\"round\" style=\"stroke:white;stroke-width:4\"/><line x1=\"550.0\" y1=\"250.0\" x2=\"531.25\" y2=\"217.524\" stroke-linecap=\"round\" style=\"stroke:white;stroke-width:4\"/><line x1=\"531.25\" y1=\"217.524\" x2=\"512.5\" y2=\"250.0\" stroke-linecap=\"round\" style=\"stroke:white;stroke-width:4\"/><line x1=\"512.5\" y1=\"250.0\" x2=\"493.75\" y2=\"217.524\" stroke-linecap=\"round\" style=\"stroke:white;stroke-width:4\"/><line x1=\"493.75\" y1=\"217.524\" x2=\"531.25\" y2=\"217.524\" stroke-linecap=\"round\" style=\"stroke:white;stroke-width:4\"/><line x1=\"531.25\" y1=\"217.524\" x2=\"512.5\" y2=\"185.048\" stroke-linecap=\"round\" style=\"stroke:white;stroke-width:4\"/><line x1=\"512.5\" y1=\"185.048\" x2=\"493.75\" y2=\"217.524\" stroke-linecap=\"round\" style=\"stroke:white;stroke-width:4\"/><line x1=\"493.75\" y1=\"217.524\" x2=\"475.0\" y2=\"250.0\" stroke-linecap=\"round\" style=\"stroke:white;stroke-width:4\"/><line x1=\"475.0\" y1=\"250.0\" x2=\"437.5\" y2=\"185.048\" stroke-linecap=\"round\" style=\"stroke:white;stroke-width:4\"/><line x1=\"437.5\" y1=\"185.048\" x2=\"475.0\" y2=\"185.048\" stroke-linecap=\"round\" style=\"stroke:white;stroke-width:4\"/><line x1=\"475.0\" y1=\"185.048\" x2=\"456.25\" y2=\"152.572\" stroke-linecap=\"round\" style=\"stroke:white;stroke-width:4\"/><line x1=\"456.25\" y1=\"152.572\" x2=\"437.5\" y2=\"185.048\" stroke-linecap=\"round\" style=\"stroke:white;stroke-width:4\"/><line x1=\"437.5\" y1=\"185.048\" x2=\"475.0\" y2=\"185.048\" stroke-linecap=\"round\" style=\"stroke:white;stroke-width:4\"/><line x1=\"475.0\" y1=\"185.048\" x2=\"512.5\" y2=\"185.048\" stroke-linecap=\"round\" style=\"stroke:white;stroke-width:4\"/><line x1=\"512.5\" y1=\"185.048\" x2=\"493.75\" y2=\"152.572\" stroke-linecap=\"round\" style=\"stroke:white;stroke-width:4\"/><line x1=\"493.75\" y1=\"152.572\" x2=\"475.0\" y2=\"185.048\" stroke-linecap=\"round\" style=\"stroke:white;stroke-width:4\"/><line x1=\"475.0\" y1=\"185.048\" x2=\"456.25\" y2=\"152.572\" stroke-linecap=\"round\" style=\"stroke:white;stroke-width:4\"/><line x1=\"456.25\" y1=\"152.572\" x2=\"493.75\" y2=\"152.572\" stroke-linecap=\"round\" style=\"stroke:white;stroke-width:4\"/><line x1=\"493.75\" y1=\"152.572\" x2=\"475.0\" y2=\"120.096\" stroke-linecap=\"round\" style=\"stroke:white;stroke-width:4\"/><line x1=\"475.0\" y1=\"120.096\" x2=\"456.25\" y2=\"152.572\" stroke-linecap=\"round\" style=\"stroke:white;stroke-width:4\"/><line x1=\"456.25\" y1=\"152.572\" x2=\"437.5\" y2=\"185.048\" stroke-linecap=\"round\" style=\"stroke:white;stroke-width:4\"/><line x1=\"437.5\" y1=\"185.048\" x2=\"400.0\" y2=\"250.0\" stroke-linecap=\"round\" style=\"stroke:white;stroke-width:4\"/><line x1=\"400.0\" y1=\"250.0\" x2=\"550.0\" y2=\"250.0\" stroke-linecap=\"round\" style=\"stroke:white;stroke-width:4\"/><line x1=\"550.0\" y1=\"250.0\" x2=\"587.5\" y2=\"250.0\" stroke-linecap=\"round\" style=\"stroke:white;stroke-width:4\"/><line x1=\"587.5\" y1=\"250.0\" x2=\"568.75\" y2=\"217.524\" stroke-linecap=\"round\" style=\"stroke:white;stroke-width:4\"/><line x1=\"568.75\" y1=\"217.524\" x2=\"550.0\" y2=\"250.0\" stroke-linecap=\"round\" style=\"stroke:white;stroke-width:4\"/><line x1=\"550.0\" y1=\"250.0\" x2=\"587.5\" y2=\"250.0\" stroke-linecap=\"round\" style=\"stroke:white;stroke-width:4\"/><line x1=\"587.5\" y1=\"250.0\" x2=\"625.0\" y2=\"250.0\" stroke-linecap=\"round\" style=\"stroke:white;stroke-width:4\"/><line x1=\"625.0\" y1=\"250.0\" x2=\"606.25\" y2=\"217.524\" stroke-linecap=\"round\" style=\"stroke:white;stroke-width:4\"/><line x1=\"606.25\" y1=\"217.524\" x2=\"587.5\" y2=\"250.0\" stroke-linecap=\"round\" style=\"stroke:white;stroke-width:4\"/><line x1=\"587.5\" y1=\"250.0\" x2=\"568.75\" y2=\"217.524\" stroke-linecap=\"round\" style=\"stroke:white;stroke-width:4\"/><line x1=\"568.75\" y1=\"217.524\" x2=\"606.25\" y2=\"217.524\" stroke-linecap=\"round\" style=\"stroke:white;stroke-width:4\"/><line x1=\"606.25\" y1=\"217.524\" x2=\"587.5\" y2=\"185.048\" stroke-linecap=\"round\" style=\"stroke:white;stroke-width:4\"/><line x1=\"587.5\" y1=\"185.048\" x2=\"568.75\" y2=\"217.524\" stroke-linecap=\"round\" style=\"stroke:white;stroke-width:4\"/><line x1=\"568.75\" y1=\"217.524\" x2=\"550.0\" y2=\"250.0\" stroke-linecap=\"round\" style=\"stroke:white;stroke-width:4\"/><line x1=\"550.0\" y1=\"250.0\" x2=\"625.0\" y2=\"250.0\" stroke-linecap=\"round\" style=\"stroke:white;stroke-width:4\"/><line x1=\"625.0\" y1=\"250.0\" x2=\"662.5\" y2=\"250.0\" stroke-linecap=\"round\" style=\"stroke:white;stroke-width:4\"/><line x1=\"662.5\" y1=\"250.0\" x2=\"643.75\" y2=\"217.524\" stroke-linecap=\"round\" style=\"stroke:white;stroke-width:4\"/><line x1=\"643.75\" y1=\"217.524\" x2=\"625.0\" y2=\"250.0\" stroke-linecap=\"round\" style=\"stroke:white;stroke-width:4\"/><line x1=\"625.0\" y1=\"250.0\" x2=\"662.5\" y2=\"250.0\" stroke-linecap=\"round\" style=\"stroke:white;stroke-width:4\"/><line x1=\"662.5\" y1=\"250.0\" x2=\"700.0\" y2=\"250.0\" stroke-linecap=\"round\" style=\"stroke:white;stroke-width:4\"/><line x1=\"700.0\" y1=\"250.0\" x2=\"681.25\" y2=\"217.524\" stroke-linecap=\"round\" style=\"stroke:white;stroke-width:4\"/><line x1=\"681.25\" y1=\"217.524\" x2=\"662.5\" y2=\"250.0\" stroke-linecap=\"round\" style=\"stroke:white;stroke-width:4\"/><line x1=\"662.5\" y1=\"250.0\" x2=\"643.75\" y2=\"217.524\" stroke-linecap=\"round\" style=\"stroke:white;stroke-width:4\"/><line x1=\"643.75\" y1=\"217.524\" x2=\"681.25\" y2=\"217.524\" stroke-linecap=\"round\" style=\"stroke:white;stroke-width:4\"/><line x1=\"681.25\" y1=\"217.524\" x2=\"662.5\" y2=\"185.048\" stroke-linecap=\"round\" style=\"stroke:white;stroke-width:4\"/><line x1=\"662.5\" y1=\"185.048\" x2=\"643.75\" y2=\"217.524\" stroke-linecap=\"round\" style=\"stroke:white;stroke-width:4\"/><line x1=\"643.75\" y1=\"217.524\" x2=\"625.0\" y2=\"250.0\" stroke-linecap=\"round\" style=\"stroke:white;stroke-width:4\"/><line x1=\"625.0\" y1=\"250.0\" x2=\"587.5\" y2=\"185.048\" stroke-linecap=\"round\" style=\"stroke:white;stroke-width:4\"/><line x1=\"587.5\" y1=\"185.048\" x2=\"625.0\" y2=\"185.048\" stroke-linecap=\"round\" style=\"stroke:white;stroke-width:4\"/><line x1=\"625.0\" y1=\"185.048\" x2=\"606.25\" y2=\"152.572\" stroke-linecap=\"round\" style=\"stroke:white;stroke-width:4\"/><line x1=\"606.25\" y1=\"152.572\" x2=\"587.5\" y2=\"185.048\" stroke-linecap=\"round\" style=\"stroke:white;stroke-width:4\"/><line x1=\"587.5\" y1=\"185.048\" x2=\"625.0\" y2=\"185.048\" stroke-linecap=\"round\" style=\"stroke:white;stroke-width:4\"/><line x1=\"625.0\" y1=\"185.048\" x2=\"662.5\" y2=\"185.048\" stroke-linecap=\"round\" style=\"stroke:white;stroke-width:4\"/><line x1=\"662.5\" y1=\"185.048\" x2=\"643.75\" y2=\"152.572\" stroke-linecap=\"round\" style=\"stroke:white;stroke-width:4\"/><line x1=\"643.75\" y1=\"152.572\" x2=\"625.0\" y2=\"185.048\" stroke-linecap=\"round\" style=\"stroke:white;stroke-width:4\"/><line x1=\"625.0\" y1=\"185.048\" x2=\"606.25\" y2=\"152.572\" stroke-linecap=\"round\" style=\"stroke:white;stroke-width:4\"/><line x1=\"606.25\" y1=\"152.572\" x2=\"643.75\" y2=\"152.572\" stroke-linecap=\"round\" style=\"stroke:white;stroke-width:4\"/><line x1=\"643.75\" y1=\"152.572\" x2=\"625.0\" y2=\"120.096\" stroke-linecap=\"round\" style=\"stroke:white;stroke-width:4\"/><line x1=\"625.0\" y1=\"120.096\" x2=\"606.25\" y2=\"152.572\" stroke-linecap=\"round\" style=\"stroke:white;stroke-width:4\"/><line x1=\"606.25\" y1=\"152.572\" x2=\"587.5\" y2=\"185.048\" stroke-linecap=\"round\" style=\"stroke:white;stroke-width:4\"/><line x1=\"587.5\" y1=\"185.048\" x2=\"550.0\" y2=\"250.0\" stroke-linecap=\"round\" style=\"stroke:white;stroke-width:4\"/><line x1=\"550.0\" y1=\"250.0\" x2=\"475.0\" y2=\"120.096\" stroke-linecap=\"round\" style=\"stroke:white;stroke-width:4\"/><line x1=\"475.0\" y1=\"120.096\" x2=\"512.5\" y2=\"120.096\" stroke-linecap=\"round\" style=\"stroke:white;stroke-width:4\"/><line x1=\"512.5\" y1=\"120.096\" x2=\"493.75\" y2=\"87.62\" stroke-linecap=\"round\" style=\"stroke:white;stroke-width:4\"/><line x1=\"493.75\" y1=\"87.62\" x2=\"475.0\" y2=\"120.096\" stroke-linecap=\"round\" style=\"stroke:white;stroke-width:4\"/><line x1=\"475.0\" y1=\"120.096\" x2=\"512.5\" y2=\"120.096\" stroke-linecap=\"round\" style=\"stroke:white;stroke-width:4\"/><line x1=\"512.5\" y1=\"120.096\" x2=\"550.0\" y2=\"120.096\" stroke-linecap=\"round\" style=\"stroke:white;stroke-width:4\"/><line x1=\"550.0\" y1=\"120.096\" x2=\"531.25\" y2=\"87.62\" stroke-linecap=\"round\" style=\"stroke:white;stroke-width:4\"/><line x1=\"531.25\" y1=\"87.62\" x2=\"512.5\" y2=\"120.096\" stroke-linecap=\"round\" style=\"stroke:white;stroke-width:4\"/><line x1=\"512.5\" y1=\"120.096\" x2=\"493.75\" y2=\"87.62\" stroke-linecap=\"round\" style=\"stroke:white;stroke-width:4\"/><line x1=\"493.75\" y1=\"87.62\" x2=\"531.25\" y2=\"87.62\" stroke-linecap=\"round\" style=\"stroke:white;stroke-width:4\"/><line x1=\"531.25\" y1=\"87.62\" x2=\"512.5\" y2=\"55.144\" stroke-linecap=\"round\" style=\"stroke:white;stroke-width:4\"/><line x1=\"512.5\" y1=\"55.144\" x2=\"493.75\" y2=\"87.62\" stroke-linecap=\"round\" style=\"stroke:white;stroke-width:4\"/><line x1=\"493.75\" y1=\"87.62\" x2=\"475.0\" y2=\"120.096\" stroke-linecap=\"round\" style=\"stroke:white;stroke-width:4\"/><line x1=\"475.0\" y1=\"120.096\" x2=\"550.0\" y2=\"120.096\" stroke-linecap=\"round\" style=\"stroke:white;stroke-width:4\"/><line x1=\"550.0\" y1=\"120.096\" x2=\"587.5\" y2=\"120.096\" stroke-linecap=\"round\" style=\"stroke:white;stroke-width:4\"/><line x1=\"587.5\" y1=\"120.096\" x2=\"568.75\" y2=\"87.62\" stroke-linecap=\"round\" style=\"stroke:white;stroke-width:4\"/><line x1=\"568.75\" y1=\"87.62\" x2=\"550.0\" y2=\"120.096\" stroke-linecap=\"round\" style=\"stroke:white;stroke-width:4\"/><line x1=\"550.0\" y1=\"120.096\" x2=\"587.5\" y2=\"120.096\" stroke-linecap=\"round\" style=\"stroke:white;stroke-width:4\"/><line x1=\"587.5\" y1=\"120.096\" x2=\"625.0\" y2=\"120.096\" stroke-linecap=\"round\" style=\"stroke:white;stroke-width:4\"/><line x1=\"625.0\" y1=\"120.096\" x2=\"606.25\" y2=\"87.62\" stroke-linecap=\"round\" style=\"stroke:white;stroke-width:4\"/><line x1=\"606.25\" y1=\"87.62\" x2=\"587.5\" y2=\"120.096\" stroke-linecap=\"round\" style=\"stroke:white;stroke-width:4\"/><line x1=\"587.5\" y1=\"120.096\" x2=\"568.75\" y2=\"87.62\" stroke-linecap=\"round\" style=\"stroke:white;stroke-width:4\"/><line x1=\"568.75\" y1=\"87.62\" x2=\"606.25\" y2=\"87.62\" stroke-linecap=\"round\" style=\"stroke:white;stroke-width:4\"/><line x1=\"606.25\" y1=\"87.62\" x2=\"587.5\" y2=\"55.144\" stroke-linecap=\"round\" style=\"stroke:white;stroke-width:4\"/><line x1=\"587.5\" y1=\"55.144\" x2=\"568.75\" y2=\"87.62\" stroke-linecap=\"round\" style=\"stroke:white;stroke-width:4\"/><line x1=\"568.75\" y1=\"87.62\" x2=\"550.0\" y2=\"120.096\" stroke-linecap=\"round\" style=\"stroke:white;stroke-width:4\"/><line x1=\"550.0\" y1=\"120.096\" x2=\"512.5\" y2=\"55.144\" stroke-linecap=\"round\" style=\"stroke:white;stroke-width:4\"/><line x1=\"512.5\" y1=\"55.144\" x2=\"550.0\" y2=\"55.144\" stroke-linecap=\"round\" style=\"stroke:white;stroke-width:4\"/><line x1=\"550.0\" y1=\"55.144\" x2=\"531.25\" y2=\"22.668\" stroke-linecap=\"round\" style=\"stroke:white;stroke-width:4\"/><line x1=\"531.25\" y1=\"22.668\" x2=\"512.5\" y2=\"55.144\" stroke-linecap=\"round\" style=\"stroke:white;stroke-width:4\"/><line x1=\"512.5\" y1=\"55.144\" x2=\"550.0\" y2=\"55.144\" stroke-linecap=\"round\" style=\"stroke:white;stroke-width:4\"/><line x1=\"550.0\" y1=\"55.144\" x2=\"587.5\" y2=\"55.144\" stroke-linecap=\"round\" style=\"stroke:white;stroke-width:4\"/><line x1=\"587.5\" y1=\"55.144\" x2=\"568.75\" y2=\"22.668\" stroke-linecap=\"round\" style=\"stroke:white;stroke-width:4\"/><line x1=\"568.75\" y1=\"22.668\" x2=\"550.0\" y2=\"55.144\" stroke-linecap=\"round\" style=\"stroke:white;stroke-width:4\"/><line x1=\"550.0\" y1=\"55.144\" x2=\"531.25\" y2=\"22.668\" stroke-linecap=\"round\" style=\"stroke:white;stroke-width:4\"/><line x1=\"531.25\" y1=\"22.668\" x2=\"568.75\" y2=\"22.668\" stroke-linecap=\"round\" style=\"stroke:white;stroke-width:4\"/><line x1=\"568.75\" y1=\"22.668\" x2=\"550.0\" y2=\"-9.808\" stroke-linecap=\"round\" style=\"stroke:white;stroke-width:4\"/><line x1=\"550.0\" y1=\"-9.808\" x2=\"531.25\" y2=\"22.668\" stroke-linecap=\"round\" style=\"stroke:white;stroke-width:4\"/><line x1=\"531.25\" y1=\"22.668\" x2=\"512.5\" y2=\"55.144\" stroke-linecap=\"round\" style=\"stroke:white;stroke-width:4\"/><line x1=\"512.5\" y1=\"55.144\" x2=\"475.0\" y2=\"120.096\" stroke-linecap=\"round\" style=\"stroke:white;stroke-width:4\"/><line x1=\"475.0\" y1=\"120.096\" x2=\"400.0\" y2=\"250.0\" stroke-linecap=\"round\" style=\"stroke:white;stroke-width:4\"/>\n",
       "        <g visibility=visible transform=\"rotate(90,400.0,250.0) translate(382.0, 232.0)\">\n",
       "<path style=\" stroke:none;fill-rule:evenodd;fill:white;fill-opacity:1;\" d=\"M 18.214844 0.632812 C 16.109375 1.800781 15.011719 4.074219 15.074219 7.132812 L 15.085938 7.652344 L 14.785156 7.496094 C 13.476562 6.824219 11.957031 6.671875 10.40625 7.066406 C 8.46875 7.550781 6.515625 9.15625 4.394531 11.992188 C 3.0625 13.777344 2.679688 14.636719 3.042969 15.027344 L 3.15625 15.152344 L 3.519531 15.152344 C 4.238281 15.152344 4.828125 14.886719 8.1875 13.039062 C 9.386719 12.378906 10.371094 11.839844 10.378906 11.839844 C 10.386719 11.839844 10.355469 11.929688 10.304688 12.035156 C 9.832031 13.09375 9.257812 14.820312 8.96875 16.078125 C 7.914062 20.652344 8.617188 24.53125 11.070312 27.660156 C 11.351562 28.015625 11.363281 27.914062 10.972656 28.382812 C 8.925781 30.84375 7.945312 33.28125 8.238281 35.1875 C 8.289062 35.527344 8.28125 35.523438 8.917969 35.523438 C 10.941406 35.523438 13.074219 34.207031 15.136719 31.6875 C 15.359375 31.417969 15.328125 31.425781 15.5625 31.574219 C 16.292969 32.042969 18.023438 32.964844 18.175781 32.964844 C 18.335938 32.964844 19.941406 32.210938 20.828125 31.71875 C 20.996094 31.625 21.136719 31.554688 21.136719 31.558594 C 21.203125 31.664062 21.898438 32.414062 22.222656 32.730469 C 23.835938 34.300781 25.5625 35.132812 27.582031 35.300781 C 27.90625 35.328125 27.9375 35.308594 28.007812 34.984375 C 28.382812 33.242188 27.625 30.925781 25.863281 28.425781 L 25.542969 27.96875 L 25.699219 27.785156 C 28.945312 23.960938 29.132812 18.699219 26.257812 11.96875 L 26.207031 11.84375 L 27.945312 12.703125 C 31.53125 14.476562 32.316406 14.800781 33.03125 14.800781 C 33.976562 14.800781 33.78125 13.9375 32.472656 12.292969 C 28.519531 7.355469 25.394531 5.925781 21.921875 7.472656 L 21.558594 7.636719 L 21.578125 7.542969 C 21.699219 6.992188 21.761719 5.742188 21.699219 5.164062 C 21.496094 3.296875 20.664062 1.964844 19.003906 0.855469 C 18.480469 0.503906 18.457031 0.5 18.214844 0.632812\"/>\n",
       "</g>\n",
       "      </svg>\n",
       "    "
      ],
      "text/plain": [
       "<IPython.core.display.HTML object>"
      ]
     },
     "metadata": {},
     "output_type": "display_data"
    }
   ],
   "source": [
    "turtle.initializeTurtle(initial_speed=5)\n",
    "turtle.right(90)\n",
    "fractal_triangulo(300,4)"
   ]
  },
  {
   "cell_type": "markdown",
   "metadata": {},
   "source": [
    "---"
   ]
  },
  {
   "cell_type": "markdown",
   "metadata": {},
   "source": [
    "## Propuestos"
   ]
  },
  {
   "cell_type": "markdown",
   "metadata": {},
   "source": [
    "\n",
    "- Programe una función que le pida a una persona ingresar números indeterminadamente. Cuando la persona ingrese el número 0, entonces muestra en pantalla el mayor número ingresado\n",
    "\n",
    "- Programe la función `fractal_arbol(L,n)` que recibe el largo del trazo base y la profundidad fractal. En cada llamada recursiva, el largo del trazo disminuye en `2/3`, y los giros para avanzar a las ramas son de `30°`\n",
    "\n",
    "<div><img src=\"img16_propuesto.svg\" width=\"50%;\"/></div>\n",
    "\n",
    "- Programe la función `multiplicarDigitos(n)` que dado un número entero positivo, entrega el resultado de multiplicar todos sus dígitos. \n",
    "ej: `multiplicarDigitos(456)` entrega 120\n",
    "\n",
    "- Programe la función `ocurrencias(n, b)` que dado un número entero positivo `n` y una cifra entera `b` entre 0 y 9, entrega cuantas veces aparece la cifra `b` en el número n\n",
    "ej: `ocurrencias(234355323, 3)` entrega 4\n"
   ]
  },
  {
   "cell_type": "markdown",
   "metadata": {},
   "source": [
    "## Conclusiones"
   ]
  },
  {
   "cell_type": "markdown",
   "metadata": {},
   "source": [
    "En esta sesión hemos aprendido:\n",
    "\n",
    "- Plantear la resolución de problemas usando recursión, dividiendo el problema en instancias más pequeñas del mismo problema\n",
    "\n",
    "- Crear y analizar funciones recursivas\n",
    "\n",
    "  - Identificar el caso base (la solución evidente)\n",
    "\n",
    "  - Identificar el paso recursivo (cómo descomponer el problema) \n",
    "\n",
    "  - Cuidar de ir disminuyendo el tamaño del problema en cada paso recursivo\n",
    "\n",
    "- Ver con algunos ejemplos, que está permitido tener más de un caso base y/o más de una invocación recursiva\n",
    "\n",
    "- Programas con interacciones cíclicas/repetitivas\n",
    "\n",
    "- Módulo Turtle y Fractales como aplicación de recursión\n"
   ]
  }
 ],
 "metadata": {
  "kernelspec": {
   "display_name": "Python 3 (ipykernel)",
   "language": "python",
   "name": "python3"
  },
  "language_info": {
   "codemirror_mode": {
    "name": "ipython",
    "version": 3
   },
   "file_extension": ".py",
   "mimetype": "text/x-python",
   "name": "python",
   "nbconvert_exporter": "python",
   "pygments_lexer": "ipython3",
   "version": "3.12.5"
  },
  "vscode": {
   "interpreter": {
    "hash": "98b95ce4537a043c6c2f8047f97d2678115deb8444c76d437608d4f0db95d495"
   }
  }
 },
 "nbformat": 4,
 "nbformat_minor": 4
}
