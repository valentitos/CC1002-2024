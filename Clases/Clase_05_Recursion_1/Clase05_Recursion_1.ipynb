{
 "cells": [
  {
   "cell_type": "markdown",
   "metadata": {},
   "source": [
    "<a href=\"https://colab.research.google.com/github/valentitos/CC1002-2024/blob/main/Clases/Clase_05_Recursion_1/Clase05_Recursion_1.ipynb\" target=\"_parent\"><img src=\"colab-badge.svg\" alt=\"Open In Colab\\\"/></a> "
   ]
  },
  {
   "cell_type": "markdown",
   "metadata": {},
   "source": [
    "# Clase 05: Recursión (parte 1)"
   ]
  },
  {
   "cell_type": "markdown",
   "metadata": {},
   "source": [
    "## Recuerdo Clase 04"
   ]
  },
  {
   "cell_type": "markdown",
   "metadata": {},
   "source": [
    "### Valores booleanos"
   ]
  },
  {
   "cell_type": "markdown",
   "metadata": {},
   "source": [
    "Existen expresiones, que al ser evaluadas, retornan valores:\n",
    "\n",
    "- `True` (verdadero)\n",
    "\n",
    "- `False` (falso)\n",
    "\n",
    "Estos valores son de tipo lógico, o `bool` (booleanos). En particular, una expresión que da como resultado un valor de tipo lógico, se llama condición\n",
    "\n",
    "\n",
    "\n",
    "\n",
    "\n"
   ]
  },
  {
   "cell_type": "markdown",
   "metadata": {},
   "source": [
    "### Comparadores"
   ]
  },
  {
   "cell_type": "markdown",
   "metadata": {},
   "source": [
    "Tenemos las siguientes operaciones de comparación entre dos expresiones:\n",
    "\n",
    "|Expresión | Significado | Ejemplo | Resultado |\n",
    "|---|---|---|---|\n",
    "| `x == y` | ¿Es `x` igual a `y`? | `5 == 7` | `False` | \n",
    "| `x < y` | ¿Es `x` menor que `y`? | `6 < 9` | `True` | \n",
    "| `x > y` | ¿Es `x` mayor que `y`? | `6 > 9` | `False` |\n",
    "| `x <= y` | ¿Es `x` menor o igual que `y`? | `8 <= 4` | `False` | \n",
    "| `x >= y` | ¿Es `x` mayor o igual que `y`? | `8 >= 8` | `True` |\n",
    "| `x != y` | ¿Es `x` distinto de `y`? | `5 != 7` | `True` |  "
   ]
  },
  {
   "cell_type": "markdown",
   "metadata": {},
   "source": [
    "### Operadores Lógicos"
   ]
  },
  {
   "cell_type": "markdown",
   "metadata": {},
   "source": [
    "Es posible obtener condiciones compuestas, mediante conectores lógicos:\n",
    "\n",
    "\n",
    "| Conector | Interpretación |\n",
    "|---|---|\n",
    "| `x and y` | Es `True` si tanto `x` como `y` son `True`| \n",
    "| `x or y` | Es `True` al menos `x` o `y` es `True`|\n",
    "| `not y` | Niega el resultado de la expresión inmediatamente a su derecha|\n",
    "\n",
    "La prioridad de evaluación es: primero `not`, luego `and` y finalmente `or`"
   ]
  },
  {
   "cell_type": "markdown",
   "metadata": {},
   "source": [
    "### Instrucción ``if-else``"
   ]
  },
  {
   "cell_type": "markdown",
   "metadata": {},
   "source": [
    "<div><img src=\"recap_cond_ifelse.png\" width=\"65%;\"/></div>"
   ]
  },
  {
   "cell_type": "markdown",
   "metadata": {},
   "source": [
    "### Instrucción ``if``"
   ]
  },
  {
   "cell_type": "markdown",
   "metadata": {},
   "source": [
    "<div><img src=\"recap_cond_if.png\" width=\"65%;\"/></div>"
   ]
  },
  {
   "cell_type": "markdown",
   "metadata": {},
   "source": [
    "### Instrucción `if-elif`"
   ]
  },
  {
   "cell_type": "markdown",
   "metadata": {},
   "source": [
    "<div><img src=\"recap_cond_elif.png\" width=\"65%;\"/></div>"
   ]
  },
  {
   "cell_type": "markdown",
   "metadata": {},
   "source": [
    "### Consideraciones"
   ]
  },
  {
   "cell_type": "markdown",
   "metadata": {},
   "source": [
    "\n",
    "1) Al aplicar la receta de diseño sobre funciones condicionales:\n",
    "  \n",
    "    - **Identificar cada una de las situaciones** posibles que pueden ocurrir en la función, dependiendo de los valores de entrada\n",
    "\n",
    "    - Dar **ejemplos** de uso y test **para cada escenario** anterior\n",
    "\n",
    "    - Diseñar las **condiciones adecuadas** para cada escenario\n",
    "\n",
    "    - Ver si es posible simplificar condiciones o agrupar escenarios\n",
    "\n",
    "2) Está permitido colocar/anidar una rama ``if-else`` dentro de un ``if-else`` (u otras de sus variantes)\n",
    "\n",
    "    ```python\n",
    "    --------------------------------\n",
    "    def mayorDe3(x,y,z):\n",
    "        if x >= y:\n",
    "            if x >= z:\n",
    "                return x\n",
    "            else:\n",
    "                return z\n",
    "        \n",
    "        else:\n",
    "            if y >= z:\n",
    "                return y\n",
    "            else:\n",
    "                return z\n",
    "    --------------------------------\n",
    "    ```\n",
    "    \n",
    "    -  Si se cumple la condición, entonces se ejecuta el primer bloque de instrucciones\n",
    "\n",
    "    - Si NO se cumple, se ejecuta el otro bloque de instrucciones\n",
    "    \n",
    "3) Se pueden usar operadores lógicos (``and`` ; ``or`` ; ``not``) para crear condiciones o preguntas más poderosas\n",
    "\n",
    "    ```python\n",
    "    --------------------------------\n",
    "    def mayorDe3(x,y,z):\n",
    "        if x >= y and x >= z:\n",
    "            return x\n",
    "        else:\n",
    "            if y >= z:\n",
    "                return y\n",
    "            else:\n",
    "                return z\n",
    "    --------------------------------\n",
    "    ```\n",
    "\n",
    "    - La primera condición es una condición compuesta, que de cumplirse, asegura que x es el mayor número.\n",
    "\n",
    "    - A partir del primer `else`, podemos olvidarnos de x, ya que el mayor solo podrá ser y o z.\n",
    "\n",
    "4) Se pueden crear **programas interactivos** que tengan condiciones\n",
    "\n",
    "    ```python\n",
    "    --------------------------------\n",
    "    nota = float(input(\"nota?\"))\n",
    "    print(\"Calificación = \", end=\"\")\n",
    "    \n",
    "    if nota < 1.0 or nota > 7.0:\n",
    "        print(\"Fuera de Rango\")\n",
    "    elif nota < 4.0:\n",
    "        print(\"Reprobado(a)\")\n",
    "    elif nota < 5.0:\n",
    "        print(\"Aprobado(a)\")\n",
    "    elif nota < 6.0:\n",
    "        print(\"Aprobado(a) con Distinción\")\n",
    "    else:\n",
    "        print(\"Aprobado(a) con Distinción Máxima\")\n",
    "    --------------------------------\n",
    "    ```\n",
    "\n",
    "    - A partir del punto `elif nota < 5.0`, podemos asumir que la nota ya es sobre 4.0 (ya que las condiciones anteriores que no se cumplieron permiten afirmarlo)\n",
    "\n",
    "    - Por descarte, si la nota no fue abordada por ninguno de los casos anteriores (`if` y `elif`), entonces por descarte (`else`) sí o sí está entre 6 y 7.\n",
    "\n",
    "5) Podemos realizar operaciones de comparación de igualdad (o distinto) con cadenas de texto\n",
    "\n",
    "    ```python\n",
    "    --------------------------------\n",
    "    # jaliscoCachipun: str -> str\n",
    "    # entrega la jugada ganadora del cachipun\n",
    "    # ej: jaliscoCachipun(\"papel\") entrega \"tijera\"\n",
    "    def jaliscoCachipun(jugada):\n",
    "        if jugada == \"tijera\":\n",
    "            return \"piedra\"\n",
    "        elif jugada == \"piedra\":\n",
    "            return \"papel\"\n",
    "        else:\n",
    "            return \"tijera\"\n",
    "    \n",
    "    # Test\n",
    "    assert jaliscoCachipun(\"papel\") == \"tijera\"\n",
    "    --------------------------------\n",
    "    ```"
   ]
  },
  {
   "cell_type": "markdown",
   "metadata": {},
   "source": [
    "\n",
    "---"
   ]
  },
  {
   "cell_type": "markdown",
   "metadata": {},
   "source": [
    "## Recursión"
   ]
  },
  {
   "cell_type": "markdown",
   "metadata": {},
   "source": [
    "Recursión es la forma en la cual se especifica o define un proceso o función, **basado en su propia definición**.\n",
    "\n",
    "Un problema que puede ser definido en función de su tamaño (ej: $N$), es resuelto de manera recursiva, si:\n",
    "\n",
    "- Este problema es dividido en instancias más pequeñas (de tamaño menor a $N$) del **mismo problema**\n",
    "\n",
    "- Se conoce una solución explicita para sus instancias más simples o pequeñas (por ej: para $N = 0$, o $N = 1$)\n",
    "\n",
    "- Cada problema pequeño tiende a acercarse o converger al caso base"
   ]
  },
  {
   "cell_type": "markdown",
   "metadata": {},
   "source": [
    "### Idea "
   ]
  },
  {
   "cell_type": "markdown",
   "metadata": {},
   "source": [
    "Supongamos que tenemos el problema de comernos una torta... Es imposible (?) que una persona pueda comer una torta entera de una sola vez! pero se puede pedir ayuda...\n",
    "\n",
    "Pensemos la solución de manera recursiva:\n",
    "\n",
    "- Si bien no puedo comer una torta entera, **puedo comer un trozo**\n",
    "\n",
    "- Luego, puedo **delegar** el problema a otra persona, **pasándole lo que queda de torta** y que intente comérsela\n",
    "\n",
    "- Las personas seguirán esta misma lógica, recibir la torta, comer lo que mas puedan (1 trozo) y luego **delegar el resto del problema** a otra persona\n",
    "\n",
    "- Eventualmente, el problema **terminará cuando ya no queden trozos de torta** y me avisen que se acabó\n",
    "\n",
    "\n",
    "Solución algorítmica\n",
    "\n",
    "- Alguien me hace llegar lo que queda de una torta\n",
    "\n",
    "- Si no queda torta:\n",
    "    \n",
    "    - Listo! problema resuelto, ya no hay torta (aunque me quedé sin comer :( ) )\n",
    "    \n",
    "    - Aviso hacia atrás que se acabó la torta\n",
    "\n",
    "- Si queda torta:\n",
    "\n",
    "    - Como un trozo\n",
    "\n",
    "    - Le paso lo que queda de torta a alguien más\n",
    "\n",
    "    - Espero a que me digan que se acabó la torta, para avisar hacia atrás"
   ]
  },
  {
   "cell_type": "markdown",
   "metadata": {},
   "source": [
    "<div><img src=\"img1_torta1.svg\" width=\"50%;\"/><img src=\"img2_torta2.svg\" width=\"40%;\"/></div>\n",
    "\n",
    "<div><img src=\"img4_torta4.svg\" width=\"50%;\"/><img src=\"img3_torta3.svg\" width=\"50%;\"/></div>"
   ]
  },
  {
   "cell_type": "markdown",
   "metadata": {},
   "source": [
    "- La situación en donde se reduce el problema y se delega a alguien más (sacar un trozo de torta y pasar lo que queda de torta a otra persona), se conoce como el **paso recursivo**. Notar que el problema fue disminuyendo en tamaño a medida que avanzaban los pasos recursivos.\n",
    "\n",
    "- La situación donde se observa una situación fácil de resolver (si no quedan trozos de torta, entonces el problema se resolvió), se conoce como el **caso base**. Usualmente es un caso donde sabemos una solución evidente para el problema\n",
    "\n",
    "---"
   ]
  },
  {
   "cell_type": "markdown",
   "metadata": {},
   "source": [
    "## Ejemplo 1: Factorial"
   ]
  },
  {
   "cell_type": "markdown",
   "metadata": {},
   "source": [
    "Calculemos el factorial de un número $n$ dado, sin usar la función factorial del módulo `math`\n",
    "\n",
    "Recordemos que el factorial se define como:\n",
    "\n",
    "$$\n",
    "n! = n*(n-1)*(n-2)*...*2*1\n",
    "$$\n",
    "\n",
    "Por ej: $4! = 4*3*2*1$\n",
    "\n",
    "Notemos que:\n",
    "\n",
    "$$\n",
    "n! = n * \\underbrace{(n-1)*(n-2)*...*2*1}_{(n-1)!}\n",
    "$$\n",
    "\n",
    "Con lo cual podemos deducir la siguiente definición recursiva de factorial:\n",
    "\n",
    "$$\n",
    "  n!=\\begin{cases}\n",
    "               n*(n-1)! & \\text{si $n>0$} \\\\\n",
    "               1 & \\text{si $n=0$}\n",
    "            \\end{cases}\n",
    "$$\n",
    "\n",
    "Con esto:\n",
    "\n",
    "- El **factorial** de un número se define a si mismo, **usando la misma definición de factorial** para el número anterior.\n",
    "\n",
    "- **Caso Recursivo**: \"me quedo con n, y lo multiplico con lo que resulte de calcular el factorial de $(n-1)$. Ese calculo se lo delegaré a alguien más\"\n",
    "\n",
    "- **Caso Base**: \"Si me piden calcular el factorial de 0, yo sé que la respuesta es 1, y la entrego de vuelta\""
   ]
  },
  {
   "cell_type": "code",
   "execution_count": 1,
   "metadata": {},
   "outputs": [],
   "source": [
    "# factorial: int -> int\n",
    "# entrega el factorial de un numero entero\n",
    "# ej: factorial(4) entrega 24\n",
    "def factorial(n):\n",
    "\n",
    "    # Caso base\n",
    "    if n == 0:\n",
    "        return 1\n",
    "\n",
    "    # Caso recursivo\n",
    "    return n * factorial(n-1)\n",
    "\n",
    "# test\n",
    "assert factorial(0) == 1\n",
    "assert factorial(4) == 24"
   ]
  },
  {
   "cell_type": "markdown",
   "metadata": {},
   "source": [
    "- En el Caso Base, entregamos una solución explicita para un escenario en que conocemos la solución\n",
    "\n",
    "  - En este caso, sabemos que el factorial de 0 es 1, por lo que lo entregamos como respuesta\n",
    "\n",
    "- En el Caso Recursivo, invocamos a la misma función, pero reduciendo el tamaño  del problema\n",
    "\n",
    "  - En este caso, tomamos el número N y lo multiplicamos con lo que resulte de calcular el factorial del número – 1\n",
    "\n",
    "  - Así, de a poquito, nos vamos acercando al caso base\n"
   ]
  },
  {
   "cell_type": "markdown",
   "metadata": {},
   "source": [
    "### **¿Que es lo que está ocurriendo?**\n",
    "\n",
    "<div><img src=\"factorial1_stack.png\" width=\"50%;\"/></div>\n",
    "\n",
    "\n",
    "<div><img src=\"factorial2_stack.png\" width=\"50%;\"/></div>\n"
   ]
  },
  {
   "cell_type": "markdown",
   "metadata": {},
   "source": [
    "### Loops\n",
    "\n",
    "¿Que ocurre si **se nos olvida** colocar el **caso base**, o no **reducir el tamaño** del problema en la recursión? Exacto! un bonito **Loop Recursivo**, donde el programa se queda pegado en el mismo estado, y **no avanzará o terminará** más. En este caso, usualmente ocurre un **stack overflow**, es decir, se agotó el espacio para ir guardando información, y esperar el resultado de los llamados recursivos\n",
    "\n",
    "\n",
    "<div><img src=\"stackoverflow.png\" width=\"20%;\"/></div>\n",
    "\n",
    "Python en general, nos advierte con un *error de recursión*:\n",
    "\n",
    "```python\n",
    "------------------------------------\n",
    "Traceback (most recent call last):\n",
    "  File \"C:/.../factorial.py\", line 10, in <module>\n",
    "    assert factorial(0) == 1\n",
    "  File \"C:/.../factorial.py\", line 7, in factorial\n",
    "    return n * factorial(n-1)\n",
    "  File \"C:/.../factorial.py\", line 7, in factorial\n",
    "    return n * factorial(n-1)\n",
    "  File \"C:/.../factorial.py\", line 7, in factorial\n",
    "    return n * factorial(n-1)\n",
    "  [Previous line repeated 1022 more times]\n",
    "RecursionError: maximum recursion depth exceeded\n",
    "------------------------------------\n",
    "```\n",
    "\n",
    "---"
   ]
  },
  {
   "cell_type": "markdown",
   "metadata": {},
   "source": [
    "## Ejemplo 2: Potencia"
   ]
  },
  {
   "cell_type": "markdown",
   "metadata": {},
   "source": [
    "Calculemos la potencia $y$ de un número $x$, sin usar `math.pow` ni `**`, donde $y>=0$. Identifiquemos los distintos casos de la recursión\n",
    "\n",
    "Caso Base:\n",
    "\n",
    "- ¿Para que valor de $y$, la potencia $x^y$ tiene una solución sencilla?\n",
    "  \n",
    "  - Cuando $y$ vale 0, pues $x^0$ siempre es 1\n",
    "\n",
    "Caso Recursivo:\n",
    "\n",
    "- ¿Como podemos descomponer $x^y$ en instancias mas sencillas?\n",
    "\n",
    "  Notemos que:\n",
    "  \n",
    "  $$\n",
    "  x^y = \\underbrace{x * x * x * ... * x * x}_{\\text{$y$ veces}}\n",
    "  $$\n",
    "\n",
    "  Luego:\n",
    "\n",
    "  $$\n",
    "  x^y = x * \\underbrace{x * x * ... * x * x}_{x^{y-1}}\n",
    "  $$\n",
    "\n",
    "Con lo cual podemos deducir la siguiente definición recursiva de potencia:\n",
    "\n",
    "$$\n",
    "  x^y =\\begin{cases}\n",
    "               x * x^{y-1} & \\text{si $y>0$} \\\\\n",
    "               1 & \\text{si $y=0$}\n",
    "            \\end{cases}\n",
    "$$\n",
    "\n",
    "Al igual que el factorial, la **potencia** podemos definirla en **función de la potencia** de la misma base, pero con un exponente más pequeño\n"
   ]
  },
  {
   "cell_type": "code",
   "execution_count": 2,
   "metadata": {},
   "outputs": [],
   "source": [
    "#potencia: num int -> int\n",
    "#calcula la potencia de x elevado a y\n",
    "#ej: potencia(2,4) entrega 16\n",
    "def potencia(x,y):\n",
    "\n",
    "    # Caso Base\n",
    "    if y == 0:\n",
    "        return 1\n",
    "\n",
    "    # Caso Recursivo\n",
    "    return x * potencia(x, y-1)\n",
    "\n",
    "#test\n",
    "assert potencia(2,0) == 1\n",
    "assert potencia(2,4) == 16\n"
   ]
  },
  {
   "cell_type": "markdown",
   "metadata": {},
   "source": [
    "\n",
    "- Caso Base: Si el exponente es 0, la solución es conocida\n",
    "\n",
    "- Caso Recursivo: invocamos a la misma función, conservando la base y disminuyendo el exponente\n",
    "\n",
    "- Es importante identificar cual(es) son los parámetros que disminuyen el tamaño del problema!\n",
    "\n",
    "---"
   ]
  },
  {
   "cell_type": "markdown",
   "metadata": {},
   "source": [
    "## Recuerdo: Operadores de Div. Entera"
   ]
  },
  {
   "cell_type": "markdown",
   "metadata": {},
   "source": [
    "Recordemos que hacen los operadores de división entera y resto:\n",
    "\n",
    "- **División entera (`//`)**\n",
    "\n",
    "  - Al dividir por 10, nos permitía \"cortar\" un número, **eliminando dígitos por su derecha**\n",
    "\n",
    "  - El **exponente** de la potencia de 10 por la cual dividimos dice **cuántos números se \"cortan\"**\n",
    "  \n",
    "- **Resto o Módulo (`%`)**\n",
    "\n",
    "  - Aplicar módulo por 10, nos permitía \"cortar\" un número, **extrayendo dígitos a su derecha**\n",
    "\n",
    "  - El **exponente** de la potencia de 10 por la cual % nos dice dice **cuántos números se extraen**\n",
    "\n",
    "  \n",
    "Ejemplos:\n",
    "\n",
    "- `42315 // 10` Nos da `4231`, pues solo se elimina 1 dígito a la derecha\n",
    "\n",
    "- `42315 // 1000` Nos da `42`, pues se eliminan 3 dígitos a la derecha\n",
    "\n",
    "- `42315 // 100000` Nos da `0`, pues se eliminan 5 dígitos a la derecha\n",
    "\n",
    "- `42315 % 10` Nos da `5`, pues solo se extrae 1 dígito a la derecha\n",
    "\n",
    "- `42315 % 1000` Nos da `315`, pues se extraen 3 dígitos a la derecha\n",
    "\n",
    "- `42315 % 100000` Nos da `42315`, pues se extraen 5 dígitos a la derecha\n",
    "\n",
    "La **cantidad de ceros** nos dice cuántos dígitos se eliminan o extraen del número\n",
    "\n",
    "\n",
    "### Utilidad: **Recorrer un número**\n",
    "\n",
    "- Podemos cortar un número, eliminando consecutivamente el último dígito, **hasta que el número se reduzca a cero (o solo quede un dígito)**\n",
    "\n",
    "- Para conocer el dígito del número que estamos visitando, podemos aplicar la operación ``% 10``\n",
    "\n",
    "<div><img src=\"recortar_digitos.png\" width=\"30%;\"/></div>"
   ]
  },
  {
   "cell_type": "markdown",
   "metadata": {},
   "source": [
    "## Ejemplo 3: Dígitos"
   ]
  },
  {
   "cell_type": "markdown",
   "metadata": {},
   "source": [
    "Escribamos una función, que cuente los dígitos de un número entero positivo recibido como parámetro. Por ejemplo, `digitos(584)` entrega `3`\n",
    "\n",
    "Pensando recursivamente...\n",
    "\n",
    "- Caso Base: La cantidad de dígitos de un número menor a 10, es 1\n",
    "\n",
    "- Caso Recursivo: Veamos que el problema se puede descomponer, de acuerdo al siguiente diagrama:\n",
    "\n",
    "<div><img src=\"digitos_1.png\" width=\"40%;\"/></div>\n",
    "\n",
    "Luego...\n",
    "\n",
    "<div><img src=\"img8_digitos2.svg\" width=\"55%;\"/></div>"
   ]
  },
  {
   "cell_type": "code",
   "execution_count": 3,
   "metadata": {},
   "outputs": [],
   "source": [
    "# digitos: int -> int\n",
    "# entrega la cantidad de digitos de un número entero\n",
    "# ej: digitos(584) entrega 3\n",
    "def digitos(n):\n",
    "\n",
    "    #Caso Base\n",
    "    if n < 10:\n",
    "        return 1\n",
    "\n",
    "    #Caso Recursivo\n",
    "    restoN = n//10\n",
    "    return 1 + digitos(restoN)\n",
    "\n",
    "# test\n",
    "assert digitos(3) == 1\n",
    "assert digitos(584) == 3"
   ]
  },
  {
   "cell_type": "markdown",
   "metadata": {},
   "source": [
    "- Caso Base: Si el numero tiene una unidad, la solución es conocida\n",
    "\n",
    "- Caso Recursivo: Contamos el dígito actual, y luego invocamos a la misma función, con un número más pequeño\n",
    "\n",
    "- Usamos división entera para ir recortando el número y disminuir el tamaño del problema\n",
    "\n",
    "---"
   ]
  },
  {
   "cell_type": "markdown",
   "metadata": {},
   "source": [
    "## Ejemplo 4: mayor Dígito\n"
   ]
  },
  {
   "cell_type": "markdown",
   "metadata": {},
   "source": [
    "Escribamos una función que, dado un número entero positivo, entregue el dígito mayor de tal número. Por ejemplo: `mayorDigito(47352)` entrega `7`\n",
    "\n",
    "Usaremos un procedimiento similar al de la función anterior, para extraer un dígito y separarlo del resto del número\n",
    "\n",
    "- Caso Base: El mayor digito de un número de 1 cifra es si mismo\n",
    "\n",
    "- Caso Recursivo: Separamos el número para tener 1 unidad y el resto. Luego nos quedamos con el mayor entre esa unidad, y el mayor dígito del resto del número\n",
    "\n",
    "<div><img src=\"img9_mayor1.svg\" width=\"50%;\"/></div>\n",
    "\n",
    "Luego...\n",
    "\n",
    "<div><img src=\"img10_mayor2.svg\" width=\"50%;\"/></div>\n"
   ]
  },
  {
   "cell_type": "code",
   "execution_count": 4,
   "metadata": {},
   "outputs": [],
   "source": [
    "# mayorDigito: int -> int\n",
    "# entrega el mayor digito de un numero dado\n",
    "# ej: mayorDigito(47352) entrega 7\n",
    "def mayorDigito(n):\n",
    "\n",
    "    # Caso Base\n",
    "    if n < 10:\n",
    "        return n\n",
    "\n",
    "    # Caso Recursivo\n",
    "    digito = n%10\n",
    "    mayorResto = mayorDigito(n//10)\n",
    "    return max(digito, mayorResto)\n",
    "\n",
    "# test\n",
    "assert mayorDigito(47352) == 7"
   ]
  },
  {
   "cell_type": "markdown",
   "metadata": {},
   "source": [
    "- Caso Base: el dígito mayor de un número de una cifra es si mismo\n",
    "\n",
    "- Caso Recursivo: Buscamos el mayor digito entre:\n",
    "  \n",
    "  - El dígito actual\n",
    "\n",
    "  - Los demás dígitos del número (para lo cual se hace una llamada recursiva)\n",
    "\n",
    "- Notar que siempre estamos entregando un número más pequeño en las invocaciones recursivas\n",
    "\n",
    "---"
   ]
  },
  {
   "cell_type": "markdown",
   "metadata": {},
   "source": [
    "## Variables por omisión"
   ]
  },
  {
   "cell_type": "markdown",
   "metadata": {},
   "source": [
    "Un parámetro por omisión es una variable opcional que se define en la firma de la función, y les da un **valor por defecto/predefinido**\n",
    "\n",
    "- Si al usar la función no especificamos ese parámetro, entonces se usa el valor definido por defecto\n",
    "\n",
    "- Si al usar la función especificamos ese parámetro, entonces se usa ese valor especificado\n",
    "\n",
    "Por ejemplo, consideremos la siguiente función:"
   ]
  },
  {
   "cell_type": "code",
   "execution_count": 5,
   "metadata": {},
   "outputs": [],
   "source": [
    "# mascotas: int (str) -> None\n",
    "def mascotas(cantidad, tipo ='gatitos'):\n",
    "    \n",
    "    print(\"Yo tengo: \", cantidad, tipo)\n",
    "    return None"
   ]
  },
  {
   "cell_type": "markdown",
   "metadata": {},
   "source": [
    "Los parámetros por omisión se definen como una variable en la firma de la función. \n",
    "\n",
    "- En este caso, ``tipo`` es un **parámetro** por omisión \n",
    "\n",
    "- En el contrato, los parámetros por omisión se colocan entre **paréntesis**\n"
   ]
  },
  {
   "cell_type": "markdown",
   "metadata": {},
   "source": [
    "- Si ejecutamos la función, **sin entregar** el parámetro por omisión, entonces **se usa su valor por defecto**"
   ]
  },
  {
   "cell_type": "code",
   "execution_count": 6,
   "metadata": {},
   "outputs": [
    {
     "name": "stdout",
     "output_type": "stream",
     "text": [
      "Yo tengo:  3 gatitos\n"
     ]
    }
   ],
   "source": [
    "mascotas(3)"
   ]
  },
  {
   "cell_type": "markdown",
   "metadata": {},
   "source": [
    "- Si ejecutamos la función, **entregando** el parámetro adicional, entonces **se usa el valor que le pasamos**"
   ]
  },
  {
   "cell_type": "code",
   "execution_count": 7,
   "metadata": {},
   "outputs": [
    {
     "name": "stdout",
     "output_type": "stream",
     "text": [
      "Yo tengo:  2 capibaras\n"
     ]
    }
   ],
   "source": [
    "mascotas(2, \"capibaras\")"
   ]
  },
  {
   "cell_type": "markdown",
   "metadata": {},
   "source": [
    "---"
   ]
  },
  {
   "cell_type": "markdown",
   "metadata": {},
   "source": [
    "## Ejemplo 4.5: mayor Dígito (con variables por omisión)"
   ]
  },
  {
   "cell_type": "markdown",
   "metadata": {},
   "source": [
    "La idea es usar una variable por omisión para ir **guardando el mayor dígito encontrado** hasta el momento\n",
    "\n",
    "- Caso Base: Si el número se \"agotó\" (es 0), entonces **entregamos el dígito guardado**\n",
    "\n",
    "- Caso Recursivo: Extraemos un dígito y lo comparamos con el mayor que tenemos guardado\n",
    "\n",
    "  - Si el dígito es mayor, reemplazamos el mayor que tenemos guardado\n",
    "\n",
    "  - **Buscamos recursivamente** en el resto del número, cuidando de **pasar como parámetro cual es el mayor que tenemos guardado**\n",
    "\n",
    "<div><img src=\"img11_mayor3.svg\" width=\"50%;\"/></div>\n",
    "\n",
    "Luego:\n",
    "\n",
    "<div><img src=\"img12_mayor4.svg\" width=\"50%;\"/></div>"
   ]
  },
  {
   "cell_type": "code",
   "execution_count": 8,
   "metadata": {},
   "outputs": [],
   "source": [
    "# mayorDigito: int (int) -> int\n",
    "# entrega el mayor digito de un numero dado\n",
    "# ej: mayorDigito(47352) entrega 7\n",
    "def mayorDigito(n, mayor=0):\n",
    "\n",
    "    # Caso Base\n",
    "    if n == 0:\n",
    "        return mayor\n",
    "\n",
    "    # Caso Recursivo\n",
    "    digito = n % 10\n",
    "    restoNum = n // 10\n",
    "    \n",
    "    if digito > mayor:\n",
    "        return mayorDigito(restoNum,digito)\n",
    "    else:\n",
    "        return mayorDigito(restoNum,mayor)\n",
    "    \n",
    "# test\n",
    "assert mayorDigito(47352) == 7"
   ]
  },
  {
   "cell_type": "markdown",
   "metadata": {},
   "source": [
    "\n",
    "\n",
    "- Caso Base: Si ya recorrimos todo el número, entregamos la respuesta que tenemos guardada\n",
    "\n",
    "- Caso Recursivo\n",
    "  \n",
    "  - Si el **dígito actual es mayor** que el que tenemos guardado, entonces continuamos la recursión, conservando este **nuevo mayor**\n",
    "\n",
    "  - **Si no**, entonces continuamos la recursión, conservando el **mayor original**\n",
    "\n",
    "- Usamos una variable por omisión para guardar el mayor dígito encontrado hasta el momento\n",
    "\n",
    "---"
   ]
  },
  {
   "cell_type": "markdown",
   "metadata": {},
   "source": [
    "## Propuestos:\n"
   ]
  },
  {
   "cell_type": "markdown",
   "metadata": {},
   "source": [
    "\n",
    "- Programe una solución alternativa a la función `potencia`, que use la siguiente definición recursiva:\n",
    "\n",
    "$$\n",
    "  x^y =\\begin{cases}\n",
    "               x^{y/2} * x^{y/2} & \\text{si $y$ es par} \\\\\n",
    "               x * x^{y-1} & \\text{si $y$ es impar} \\\\\n",
    "               1 & \\text{si $y=0$}\n",
    "            \\end{cases}\n",
    "$$\n",
    "\n",
    "- Plantee una solución alternativa para la función `dígitos`, que use variables por omisión para llevar la cuenta de dígitos\n",
    "\n",
    "- Programe la función `invertir`, que, dado un número entero, entrega el número, pero con los dígitos en orden inverso\n",
    " \n",
    "  - hint: le puede ser útil usar la función `digitos`\n",
    "\n",
    "---"
   ]
  },
  {
   "cell_type": "markdown",
   "metadata": {},
   "source": [
    "## Conclusiones"
   ]
  },
  {
   "cell_type": "markdown",
   "metadata": {},
   "source": [
    "\n",
    "\n",
    "En esta sesión hemos aprendido:\n",
    "\n",
    "  - Plantear la resolución de problemas usando recursión\n",
    "   \n",
    "    - Dividir el problema en instancias más pequeñas del mismo problema\n",
    "\n",
    "  - Crear y analizar funciones recursivas\n",
    "  \n",
    "    - Identificar el caso base (la solución evidente)\n",
    "\n",
    "    - Identificar el paso recursivo (cómo descomponer el problema) \n",
    "\n",
    "    - Cuidar de ir disminuyendo el tamaño del problema en cada paso recursivo\n",
    "\n",
    "No es fácil entender recursión al primer intento, por lo que se sugiere que lea nuevamente esta guía, analizando paso a paso los ejemplos. Si aún no queda claro, entonces volver a leer este párrafo desde el principio."
   ]
  }
 ],
 "metadata": {
  "kernelspec": {
   "display_name": "Python 3 (ipykernel)",
   "language": "python",
   "name": "python3"
  },
  "language_info": {
   "codemirror_mode": {
    "name": "ipython",
    "version": 3
   },
   "file_extension": ".py",
   "mimetype": "text/x-python",
   "name": "python",
   "nbconvert_exporter": "python",
   "pygments_lexer": "ipython3",
   "version": "3.12.5"
  },
  "vscode": {
   "interpreter": {
    "hash": "98b95ce4537a043c6c2f8047f97d2678115deb8444c76d437608d4f0db95d495"
   }
  }
 },
 "nbformat": 4,
 "nbformat_minor": 4
}
