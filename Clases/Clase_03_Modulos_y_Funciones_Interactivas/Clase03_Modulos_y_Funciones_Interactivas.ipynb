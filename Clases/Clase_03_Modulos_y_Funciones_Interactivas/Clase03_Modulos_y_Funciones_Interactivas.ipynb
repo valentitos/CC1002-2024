{
 "cells": [
  {
   "cell_type": "markdown",
   "metadata": {},
   "source": [
    "---\n",
    "\n",
    "**Nota para quienes usan Colab**\n",
    "\n",
    "El uso de módulos de fabricación propia en Colab es \"poco natural\", pues Colab es un archivo vivo y único, que va evolucionando constantemente.\n",
    "\n",
    "Entonces hay 3 opciones para que Colab pueda interactuar con módulos propios:\n",
    "\n",
    "- Cargar el módulo propio a Colab, subiendo el archivo `.py` a los archivos temporales\n",
    "\n",
    "  ![colab](colab_patch.PNG)\n",
    "\n",
    "  Como es temporal, al reiniciar la sesión de colab, hay que volver a subirlo para que todo funciones\n",
    "\n",
    "- Subir el módulo a una carpeta de nuestro Google Drive, y luego decirle a Colab que el módulo se encuentra en una carpeta de nuestra cuenta. (Y nos pedirá permiso para que Colab pueda acceder a nuestros archivos). Para ello, ejecutar los siguientes comandos:"
   ]
  },
  {
   "cell_type": "code",
   "execution_count": null,
   "metadata": {},
   "outputs": [],
   "source": [
    "# reemplazar [carpeta_con_modulos] por el nombre de la carpeta que uds hayan creado en su Gdrive donde subirán sus módulos propios\n",
    "# Descomentar las lineas siguientes:\n",
    "\n",
    "#from google.colab import drive\n",
    "#drive.mount('/content/drive', force_remount=True)\n",
    "#import sys\n",
    "#sys.path.append('/content/drive/MyDrive/[carpeta_con_modulos])"
   ]
  },
  {
   "cell_type": "markdown",
   "metadata": {},
   "source": [
    "- Hacer copy/paste del contenido del archivo, en una celda de colab. No es lo ideal, pero debiese funcionar. En este caso, no podremos usar la nomenclatura de importar funciones, ya que las funciones ya estarán viviendo dentro de nuestro archivo Colab.\n",
    "\n",
    "Notar que esto es solo para módulos de fabricación propia. Los módulos que ya vienen con Python (como `math`, o `random`) ya son reconocidos por Colab, y se importan siguiendo la nomenclatura conocida.\n",
    "\n",
    "---"
   ]
  },
  {
   "cell_type": "markdown",
   "metadata": {},
   "source": [
    "<a href=\"https://colab.research.google.com/github/valentitos/CC1002-2024/blob/main/Clases/Clase_03_Modulos_y_Funciones_Interactivas/Clase03_Modulos_y_Funciones_Interactivas.ipynb\" target=\"_parent\"><img src=\"colab-badge.svg\" alt=\"Open In Colab\\\"/></a> "
   ]
  },
  {
   "cell_type": "markdown",
   "metadata": {},
   "source": [
    "# Clase 03: Módulos y Funciones Interactivas"
   ]
  },
  {
   "cell_type": "markdown",
   "metadata": {},
   "source": [
    "## Recuerdo Clase 02"
   ]
  },
  {
   "cell_type": "markdown",
   "metadata": {},
   "source": [
    "\n",
    "### Funciones\n",
    "\n",
    "Las funciones en computación se definen con la misma noción que existe en matemáticas.\n",
    "\n",
    "Son una estructura que recibe un conjunto de **parametros de entrada**, los procesa y genera un **resultado de salida**\n",
    "\n",
    "```python\n",
    "def nombre(parámetros)          (1)\n",
    "    instrucciones               (2)\n",
    "    return expresion            (3)\n",
    "```\n",
    "\n",
    "(1) Una función se define con la palabra clave ``def``, lleva un **nombre**, un conjunto de cero o mas **parámetros** de entrada, y termina con el simbolo ``:`` (dos puntos). Es importante que la función tenga un nombre que esté directamente relacionado con el objetivo que cumple, al igual que sus parámetros.\n",
    "\n",
    "(2) Luego viene el conjunto de **instrucciones**, que generalmente procesan los parámetros de entrada para producir un resultado. Este conjunto de **instrucciones**, debe respetar un **bloque de identación** para indicar al interprete de Python, que dicho conjunto forma parte del cuerpo de la función, y no del programa principal.\n",
    "En Python, un bloque de identación usualmente son 4 espacios o 1 tab.\n",
    "\n",
    "(3) Cuando la función está en condiciones de entregar un valor o resultado al programa principal, se indica con la palabra clave ``return``. Cuando el interprete llega a esta palabra clave, la función termina de ejecutarse, entrega el resultado de la expresión final como respuesta, y todos los parámetros y variables utilizadas dentro de la función **desaparecen**\n",
    "\n",
    "### Funciones dentro de Funciones\n",
    "\n",
    "Es posible usar funciones que hemos definido previamente dentro de otras funciones\n",
    "\n",
    "\n",
    "\n",
    "```python\n",
    "def areaCirculo(radio):\n",
    "    pi = 3.14\n",
    "    return pi * radio**2\n",
    "\n",
    "def areaAnillo(r_exterior, r_interior):\n",
    "    area_ext = areaCirculo(r_exterior)\n",
    "    area_int = areaCirculo(r_interior)\n",
    "    return area_ext - area_int\n",
    "```\n",
    "\n",
    "\n",
    "### Alcance de Variables\n",
    "\n",
    "Cuando una función termina de ejecutarse, todos los parámetros y variables utilizadas dentro de la función **desaparecen**. Esto es porque la definición de una variable dentro de una función tiene un alcance **local**. En cambio, variables definidas fuera de una función se dicen que tienen un alcance **global**\n",
    "\n",
    "Una función al operar, intentará buscar los datos/variables en el siguiente orden de prioridad:\n",
    "\n",
    "**Primera prioridad**:  Buscará si existe la variable como definición local dentro de la función\n",
    "\n",
    "```python\n",
    "\n",
    "\n",
    "def sumatoria(a,b):\n",
    "    \n",
    "    c = 5\n",
    "    suma = a + b + c\n",
    "    \n",
    "    return suma\n",
    "```\n",
    "\n",
    "\n",
    "**Segunda prioridad**: Buscará si existe la variable como parámetro de la función\n",
    "\n",
    "```python\n",
    "\n",
    "\n",
    "def sumatoria(a, b, c):\n",
    "    \n",
    "\n",
    "    suma = a + b + c\n",
    "    \n",
    "    return suma\n",
    "```\n",
    "\n",
    "**Tercera prioridad**: Buscará si existe una definición de la variable fuera de la función\n",
    "\n",
    "```python\n",
    "c = 8\n",
    "\n",
    "def sumatoria(a, b):\n",
    "    \n",
    "\n",
    "    suma = a + b + c\n",
    "    \n",
    "    return suma\n",
    "```\n",
    "\n",
    "\n",
    "### Receta de Diseño\n",
    "\n",
    "Es una receta/guía para ayudarnos a escribir correctamente funciones. Se preocupa de ayudarnos a extraer la información importante de un problema, entenderlo, y tener un orden al momento de programar una función\n",
    "\n",
    "Ahora veamos las partes de la Receta de Diseño\n",
    "\n",
    "**Contrato**: Especificación de los tipos que recibe y produce una función\n",
    "\n",
    "```python\n",
    "#areaRectangulo: num num -> num\n",
    "```\n",
    "\n",
    "- num sirve para indicar que la función está preparada para recibir/entregar tanto enteros como reales (es decir, un tipo de dato numérico cualquiera)\n",
    "\n",
    "- Ojo: formalmente el tipo de dato num no existe, solo lo usamos en la receta de diseño para facilitar la presentación de la función\n",
    "\n",
    "\n",
    "**Descripción o Propósito**: Indicación verbal de qué hace la función\n",
    "\n",
    "```python\n",
    "#calcula el area de un rectángulo dados sus lados\n",
    "```\n",
    "\n",
    "**Ejemplos de uso**: Ejemplos concretos de como usar la función\n",
    "\n",
    "```python\n",
    "#ejemplo: areaRectangulo(3,4) entrega 12\n",
    "```\n",
    "\n",
    "**Firma**: Representación formal (código) del encabezado de la función\n",
    "\n",
    "```python\n",
    "def areaRectangulo(largo,ancho):\n",
    "```\n",
    "\n",
    "El encabezado o firma, siempre:\n",
    "\n",
    "- Empieza con def\n",
    "\n",
    "- Lleva un nombre, que le daremos a la función\n",
    "\n",
    "- Dentro de un paréntesis, se indican los parámetros que recibirá la función, separados por coma\n",
    "\n",
    "\n",
    "**Cuerpo**: Código propiamente tal de la función\n",
    "\n",
    "```python\n",
    "    return largo * ancho\n",
    "```\n",
    "\n",
    "- El cuerpo de una función siempre es todo lo que \"vive\" un nivel de identación más a la derecha del encabezado/firma\n",
    "\n",
    "\n",
    "**Test**: Verificación formal de la correctitud de la función \n",
    "\n",
    "```python\n",
    "#Test\n",
    "assert areaRectangulo(3,4) == 12\n",
    "```\n",
    "\n",
    "- En este test, estamos afirmando que, si ingresamos como parámetros de la función, largo y ancho igual a 3 y 4 respectivamente, entonces el resultado entregado si o si será 12.\n",
    "\n",
    "\n",
    "**Resultado final**:\n",
    "\n",
    "```python\n",
    "#areaRectangulo: num num -> num\n",
    "#calcula el area de un rectángulo dados sus lados\n",
    "#ejemplo: areaRectangulo(3,4) entrega 12\n",
    "def areaRectangulo(largo,ancho):\n",
    "    return largo * ancho\n",
    "\n",
    "#Test\n",
    "assert areaRectangulo(3,4) == 12\n",
    "```\n",
    "\n"
   ]
  },
  {
   "cell_type": "markdown",
   "metadata": {},
   "source": [
    "---"
   ]
  },
  {
   "cell_type": "markdown",
   "metadata": {},
   "source": [
    "## Módulos"
   ]
  },
  {
   "cell_type": "markdown",
   "metadata": {},
   "source": [
    "\n",
    "\n",
    "La programación usando módulos (programación modular) es una técnica de diseño que separa las funciones de un programa en módulos, generando una **separación de intereses o responsabilidades**.\n",
    "\n",
    "- Un módulo tiene una finalidad única, y contienen todo lo necesario para llevar a cabo esa funcionalidad (código, variables, etc.)\n",
    "\n",
    "- Mejoran la mantenibilidad del software, ya que delimitan los límites lógicos de sus componentes\n",
    "\n",
    "- Facilita la búsqueda de eventuales errores, ya que existe una segmentación clara de funcionalidades y responsabilidades\n",
    "\n",
    "Así, es posible encapsular funcionalidades especificas de un programa en un compilado/recopilación de funciones, que pueden ser usadas en otros programas\n",
    "\n",
    "En particular:\n",
    "\n",
    "- Podemos usar los que vienen predefinidos en Python\n",
    "\n",
    "- Podemos crearlos nosotros(as) mismas\n",
    "\n",
    "Para invocar un módulo, usamos la palabra clave **``import``**"
   ]
  },
  {
   "cell_type": "markdown",
   "metadata": {},
   "source": [
    "<div><img src=\"img1_nubeimport.svg\" width=\"50%;\"/></div>"
   ]
  },
  {
   "cell_type": "markdown",
   "metadata": {},
   "source": [
    "### Módulo Math\n"
   ]
  },
  {
   "cell_type": "markdown",
   "metadata": {},
   "source": [
    "\n",
    "El módulo math nos provee un gran abanico de funciones para trabajar con operaciones matemáticas, en particular:\n",
    "\n",
    "| Función  | Significado   | Ejemplo  | Resultado | \n",
    "|---|---|---|---|\n",
    "| ``math.sqrt(x)``  | $\\sqrt{x}$  | ``math.sqrt(4)``  | ``2.0``  |  \n",
    "| ``math.pow(x,y)``  | $x^{x}$  | ``math.pow(4, 0.5)``  | ``2.0``  |   \n",
    "| ``math.exp(x)``  | $e^{x}$  | ``math.exp(1)``  | ``2.7182...``  |\n",
    "| ``math.log(x)``  | $ln(x)$  | ``math.log(math.e)``  | ``1.0``  |\n",
    "| ``math.sin(x)``  | $sin(x)$  | ``math.sin(math.pi)``  | ``0.0``  |\n",
    "| ``math.cos(x)``  | $cos(x)$  | ``math.cos(math.pi)``  | ``-1.0``  |\n",
    "| ``math.tan(x)``  | $tan(x)$  | ``math.tan(math.pi)``  | ``0.0``  |\n",
    "\n",
    "\n",
    "También nos provee las siguientes constantes:\n",
    "\n",
    "| Constante  | Significado   | Valor  | \n",
    "|---|---|---|\n",
    "| ``math.e``  | $e$  | ``2.7182...``  |\n",
    "| ``math.inf``  | $\\infty$  | ``inf``  |  \n",
    "| ``math.nan``  | ``not a number``  | ``nan``  |\n",
    "| ``math.pi``  | $\\pi$  | ``3.1415...``  |\n",
    "| ``math.tau``  | $\\tau$  | ``6.2831...``  | \n",
    "\n",
    "Para ver todas las funciones que nos ofrece el módulo:"
   ]
  },
  {
   "cell_type": "code",
   "execution_count": null,
   "metadata": {},
   "outputs": [],
   "source": [
    "import math\n",
    "help(math)"
   ]
  },
  {
   "cell_type": "markdown",
   "metadata": {},
   "source": [
    "Ejemplos:\n",
    "\n",
    "Para invocar una variable o función de un módulo, se usa la notación:\n",
    "\n",
    "```\n",
    "<nombre_modulo>.<nombre_funcion>\n",
    "```"
   ]
  },
  {
   "cell_type": "code",
   "execution_count": 1,
   "metadata": {},
   "outputs": [
    {
     "data": {
      "text/plain": [
       "3.141592653589793"
      ]
     },
     "execution_count": 1,
     "metadata": {},
     "output_type": "execute_result"
    }
   ],
   "source": [
    "import math\n",
    "\n",
    "math.pi     #Constante pi"
   ]
  },
  {
   "cell_type": "code",
   "execution_count": 2,
   "metadata": {},
   "outputs": [
    {
     "data": {
      "text/plain": [
       "5.0"
      ]
     },
     "execution_count": 2,
     "metadata": {},
     "output_type": "execute_result"
    }
   ],
   "source": [
    "math.sqrt(25) #Raiz cuadrada"
   ]
  },
  {
   "cell_type": "code",
   "execution_count": 3,
   "metadata": {},
   "outputs": [
    {
     "data": {
      "text/plain": [
       "19683.0"
      ]
     },
     "execution_count": 3,
     "metadata": {},
     "output_type": "execute_result"
    }
   ],
   "source": [
    "math.pow(3,9)   #Potencia"
   ]
  },
  {
   "cell_type": "code",
   "execution_count": 4,
   "metadata": {},
   "outputs": [
    {
     "data": {
      "text/plain": [
       "3"
      ]
     },
     "execution_count": 4,
     "metadata": {},
     "output_type": "execute_result"
    }
   ],
   "source": [
    "math.trunc(3.9856)  #Truncar un numero al entero mas cercano a 0"
   ]
  },
  {
   "cell_type": "markdown",
   "metadata": {},
   "source": [
    "### Módulo Random"
   ]
  },
  {
   "cell_type": "markdown",
   "metadata": {},
   "source": [
    "\n",
    "\n",
    "El módulo random nos provee un gran abanico de funciones para trabajar con generación de valores aleatorios, permutaciones, distribuciones de probabilidad, entre otros. En particular:\n",
    "\n",
    "| Función  | Significado   | \n",
    "|---|---|\n",
    "| ``random.random()``  | número `float` al azar en el intervalo $[0,1[$  | \n",
    "| ``random.randint(x,y)``  | número `int` al azar en el intervalo $[x,y]$  | \n",
    "| ``random.uniform(x,y)``  |  número `float` al azar en el intervalo $[x,y]$ |\n",
    "\n",
    "Para ver todas las funciones que nos ofrece el módulo:\n"
   ]
  },
  {
   "cell_type": "code",
   "execution_count": null,
   "metadata": {},
   "outputs": [],
   "source": [
    "import random\n",
    "help(random)"
   ]
  },
  {
   "cell_type": "markdown",
   "metadata": {},
   "source": [
    "Ejemplos:"
   ]
  },
  {
   "cell_type": "code",
   "execution_count": 5,
   "metadata": {},
   "outputs": [
    {
     "data": {
      "text/plain": [
       "1"
      ]
     },
     "execution_count": 5,
     "metadata": {},
     "output_type": "execute_result"
    }
   ],
   "source": [
    "import random\n",
    "\n",
    "random.randint(0,1) #Simular el lanzamiento de una moneda (cara o sello)\n"
   ]
  },
  {
   "cell_type": "code",
   "execution_count": 6,
   "metadata": {},
   "outputs": [
    {
     "data": {
      "text/plain": [
       "5"
      ]
     },
     "execution_count": 6,
     "metadata": {},
     "output_type": "execute_result"
    }
   ],
   "source": [
    "random.randint(1,6) #simular el lanzamiento de un dado de 6 caras"
   ]
  },
  {
   "cell_type": "code",
   "execution_count": 7,
   "metadata": {},
   "outputs": [
    {
     "data": {
      "text/plain": [
       "0.581493046662088"
      ]
     },
     "execution_count": 7,
     "metadata": {},
     "output_type": "execute_result"
    }
   ],
   "source": [
    "random.random() #generar un numero real entre 0 y 1"
   ]
  },
  {
   "cell_type": "code",
   "execution_count": 8,
   "metadata": {},
   "outputs": [
    {
     "data": {
      "text/plain": [
       "0.3156837142605118"
      ]
     },
     "execution_count": 8,
     "metadata": {},
     "output_type": "execute_result"
    }
   ],
   "source": [
    "random.random()"
   ]
  },
  {
   "cell_type": "code",
   "execution_count": 9,
   "metadata": {},
   "outputs": [
    {
     "data": {
      "text/plain": [
       "7.561857714822044"
      ]
     },
     "execution_count": 9,
     "metadata": {},
     "output_type": "execute_result"
    }
   ],
   "source": [
    "random.uniform(4,9) #generar un número real entre 4 y 9"
   ]
  },
  {
   "cell_type": "markdown",
   "metadata": {},
   "source": [
    "### Funciones predefinidas"
   ]
  },
  {
   "cell_type": "markdown",
   "metadata": {},
   "source": [
    "\n",
    "\n",
    "Hay funciones que vienen incluidas en Python, y **no** es necesario invocar un módulo para usarlas. Algunas de ellas son:\n",
    "\n",
    "| Función  | Significado   | Ejemplo  | Resultado | \n",
    "|---|---|---|---|\n",
    "| ``abs(x)``  | $\\lvert x \\rvert$ valor absoluto de $x$  | ``abs(-4)``  | ``4``  |  \n",
    "| ``max(x, y, ...)``  | máximo entre todos los valores ingresados  | ``max(4, 3,-2,8)``  | ``8``  |   \n",
    "| ``min(x, y, ...)``  | mínimo entre todos los valores ingresados  | ``min(4, 3,-2,8)``  | ``-2``  |   \n",
    "| ``round(x,z)``  | Redondea un número decimal $x$, aproximándolo con $z$ decimales | ``round(2.73555,2)``  | ``2.74``  |\n",
    "| | |  ``round(2.73345)``  | ``3``  |"
   ]
  },
  {
   "cell_type": "markdown",
   "metadata": {},
   "source": [
    "---"
   ]
  },
  {
   "cell_type": "markdown",
   "metadata": {},
   "source": [
    "## Uso de Módulos"
   ]
  },
  {
   "cell_type": "markdown",
   "metadata": {},
   "source": [
    "Supongamos que queremos usar las funciones `randint()` y `uniform()` del módulo random\n"
   ]
  },
  {
   "cell_type": "markdown",
   "metadata": {},
   "source": [
    "### Forma 1\n",
    "\n",
    "La primera forma para invocar funciones de un módulo, ya la vimos indirectamente, que consiste en colocar ``import módulo``. Luego para invocar a las funciones, usamos la notación `módulo.funcion`\n",
    "\n"
   ]
  },
  {
   "cell_type": "code",
   "execution_count": 10,
   "metadata": {},
   "outputs": [
    {
     "name": "stdout",
     "output_type": "stream",
     "text": [
      "1  -  4.291224929597078\n"
     ]
    }
   ],
   "source": [
    "import random\n",
    "\n",
    "n1 = random.randint(1, 2)\n",
    "n2 = random.uniform(3, 7)\n",
    "\n",
    "print(n1, \" - \", n2)"
   ]
  },
  {
   "cell_type": "markdown",
   "metadata": {},
   "source": [
    "### Forma 1 + alias\n",
    "\n",
    "Si el nombre del módulo es muy largo y/o es muy tedioso escribirlo siempre, se le puede dar un alias más corto. Lo cual se logra con la instrucción ``import modulo as alias``. Luego, podemos llamar al módulo a través de su alias, en vez de usar su nombre original\n"
   ]
  },
  {
   "cell_type": "code",
   "execution_count": 11,
   "metadata": {},
   "outputs": [
    {
     "name": "stdout",
     "output_type": "stream",
     "text": [
      "2  -  4.524481418276431\n"
     ]
    }
   ],
   "source": [
    "# Usaremos el alias r para referirnos al módulo random\n",
    "import random as r\n",
    "\n",
    "# Luego, al requerir usar las funciones del módulo, escribimos r.función\n",
    "n1 = r.randint(1, 2)\n",
    "n2 = r.uniform(3, 7)\n",
    "\n",
    "print(n1, \" - \", n2)"
   ]
  },
  {
   "cell_type": "markdown",
   "metadata": {},
   "source": [
    "### Forma 2\n",
    "\n",
    "La segunda forma, es invocar específicamente las funciones que queremos usar, escribiendo ``from modulo import funcion1, funcion2, ..., funcionN``. En este escenario, no es necesario anteponer el nombre del módulo al usar una función"
   ]
  },
  {
   "cell_type": "code",
   "execution_count": 12,
   "metadata": {},
   "outputs": [
    {
     "name": "stdout",
     "output_type": "stream",
     "text": [
      "1  -  6.47455316661066\n"
     ]
    }
   ],
   "source": [
    "# Se colocan las funciones que queremos usar del módulo, separadas por comas.\n",
    "from random import randint, uniform\n",
    "\n",
    "# Luego se utilizan invocando solamente su nombre\n",
    "n1 = randint(1, 2)\n",
    "n2 = uniform(3, 7)\n",
    "\n",
    "print(n1, \" - \", n2)"
   ]
  },
  {
   "cell_type": "markdown",
   "metadata": {},
   "source": [
    "### Forma 3"
   ]
  },
  {
   "cell_type": "markdown",
   "metadata": {},
   "source": [
    "La tercera forma, es invocar **todas** las funciones del módulo, usando: ``from modulo import *``. En este escenario, tampoco es necesario anteponer el nombre del módulo al usar una función\n"
   ]
  },
  {
   "cell_type": "code",
   "execution_count": 13,
   "metadata": {},
   "outputs": [
    {
     "name": "stdout",
     "output_type": "stream",
     "text": [
      "1  -  4.402890761123144\n"
     ]
    }
   ],
   "source": [
    "from random import *\n",
    "\n",
    "n1 = randint(1, 2)\n",
    "n2 = uniform(3, 7)\n",
    "\n",
    "print(n1, \" - \", n2)"
   ]
  },
  {
   "cell_type": "markdown",
   "metadata": {},
   "source": [
    "---"
   ]
  },
  {
   "cell_type": "markdown",
   "metadata": {},
   "source": [
    "## Módulos Propios"
   ]
  },
  {
   "cell_type": "markdown",
   "metadata": {},
   "source": [
    "También podemos crear nuestros propios módulos. Para esto:\n",
    "\n",
    "- Creamos un archivo `.py`\n",
    "\n",
    "- Le damos un nombre\n",
    "\n",
    "- Dentro, creamos las funciones que queremos encapsular\n",
    "\n",
    "Como ejemplo, creemos el **módulo triangulo** que nos ofrezca **funciones para calcular el área y perímetro** de un triángulo de 3 lados\n"
   ]
  },
  {
   "cell_type": "markdown",
   "metadata": {},
   "source": [
    "---\n",
    "`Archivo triangulo.py`"
   ]
  },
  {
   "cell_type": "code",
   "execution_count": 14,
   "metadata": {},
   "outputs": [],
   "source": [
    "#perimetro: num num -> num\n",
    "#calcula el perimetro de un triangulo de lados a b y c \n",
    "#ejemplo: perimetro(3,4,5) entrega 12\n",
    "def perimetro(a,b,c):\n",
    "    return a + b +c \n",
    "\n",
    "#Test\n",
    "assert perimetro(3,4,5) == 12\n",
    "\n",
    "\n",
    "#area: num num -> float\n",
    "#calcula el area de un triangulo de lados a b y c\n",
    "#ejemplo: area(3,4,5) entrega 6\n",
    "def area(a,b,c):\n",
    "    semi = perimetro(a,b,c)/2\n",
    "    return (semi*(semi-a)*(semi-b)*(semi-c))**0.5\n",
    "\n",
    "#Test\n",
    "assert area(3,4,5) == 6.0\n"
   ]
  },
  {
   "cell_type": "markdown",
   "metadata": {},
   "source": [
    "---"
   ]
  },
  {
   "cell_type": "markdown",
   "metadata": {},
   "source": [
    "---\n",
    "\n",
    "`Archivo triangulo.py`\n",
    "\n",
    "Alternativa: usar math.sqrt para calcular la raíz\n",
    "\n"
   ]
  },
  {
   "cell_type": "code",
   "execution_count": 15,
   "metadata": {},
   "outputs": [],
   "source": [
    "import math\n",
    "\n",
    "#perimetro: num num -> num\n",
    "#calcula el perimetro de un triangulo de lados a b y c \n",
    "#ejemplo: perimetro(3,4,5) entrega 12\n",
    "def perimetro(a,b,c):\n",
    "    return a + b +c \n",
    "\n",
    "#Test\n",
    "assert perimetro(3,4,5) == 12\n",
    "\n",
    "\n",
    "#area: num num -> float\n",
    "#calcula el area de un triangulo de lados a b y c\n",
    "#ejemplo: area(3,4,5) entrega 6\n",
    "def area(a,b,c):\n",
    "    semi = perimetro(a,b,c)/2\n",
    "    return math.sqrt(semi*(semi-a)*(semi-b)*(semi-c))\n",
    "\n",
    "#Test\n",
    "assert area(3,4,5) == 6.0\n"
   ]
  },
  {
   "cell_type": "markdown",
   "metadata": {},
   "source": [
    "---"
   ]
  },
  {
   "cell_type": "markdown",
   "metadata": {},
   "source": [
    "Luego, podemos invocar al módulo `triangulo` y utilizarlo:"
   ]
  },
  {
   "cell_type": "code",
   "execution_count": 16,
   "metadata": {},
   "outputs": [
    {
     "data": {
      "text/plain": [
       "24.0"
      ]
     },
     "execution_count": 16,
     "metadata": {},
     "output_type": "execute_result"
    }
   ],
   "source": [
    "import triangulo\n",
    "\n",
    "triangulo.area(6,8,10)"
   ]
  },
  {
   "cell_type": "code",
   "execution_count": 17,
   "metadata": {},
   "outputs": [
    {
     "data": {
      "text/plain": [
       "24"
      ]
     },
     "execution_count": 17,
     "metadata": {},
     "output_type": "execute_result"
    }
   ],
   "source": [
    "triangulo.perimetro(6,8,10)"
   ]
  },
  {
   "cell_type": "markdown",
   "metadata": {},
   "source": [
    "O bien:"
   ]
  },
  {
   "cell_type": "code",
   "execution_count": 18,
   "metadata": {},
   "outputs": [
    {
     "data": {
      "text/plain": [
       "24.0"
      ]
     },
     "execution_count": 18,
     "metadata": {},
     "output_type": "execute_result"
    }
   ],
   "source": [
    "from triangulo import *\n",
    "\n",
    "area(6,8,10)"
   ]
  },
  {
   "cell_type": "code",
   "execution_count": 19,
   "metadata": {},
   "outputs": [
    {
     "data": {
      "text/plain": [
       "24"
      ]
     },
     "execution_count": 19,
     "metadata": {},
     "output_type": "execute_result"
    }
   ],
   "source": [
    "perimetro(6,8,10)"
   ]
  },
  {
   "cell_type": "markdown",
   "metadata": {},
   "source": [
    "---"
   ]
  },
  {
   "cell_type": "markdown",
   "metadata": {},
   "source": [
    "## Programas y funciones interactivas"
   ]
  },
  {
   "cell_type": "markdown",
   "metadata": {},
   "source": [
    "Creemos un **programa interactivo**, que usando el módulo triangulo creado anteriormente, le pregunte a una persona por los lados de un triángulo, y calcule su área y perímetro, siguiendo el siguiente dialogo:\n",
    "\n",
    "```txt\n",
    "   Área y perímetro de un triangulo\n",
    ">> Ingrese el largo del primer lado: 3\n",
    ">> Ingrese el largo del segundo lado: 4\n",
    ">> Ingrese el largo del tercer lado: 5\n",
    "\n",
    "   perímetro = 12.0\n",
    "   área = 6.0\n",
    "```"
   ]
  },
  {
   "cell_type": "markdown",
   "metadata": {},
   "source": [
    "Pasos a seguir:\n",
    "\n",
    "- Tenemos que importar el modulo triangulo, para tener disponibles las funciones de área y perímetro\n",
    "\n",
    "- Tenemos que pedirle a una persona que ingrese los 3 lados del triangulo\n",
    "\n",
    "  - Usamos `input`, teniendo cuidado de convertir los datos recibidos, que están en tipo `str` a tipo numérico (`float`)\n",
    "\n",
    "- Tenemos que calcular el resultado y mostrarlo en pantalla\n",
    "\n",
    "  - Usamos `print`\n",
    "\n",
    "<div><img src=\"img2_scriptinteractivo.svg\" width=\"50%;\"/></div>"
   ]
  },
  {
   "cell_type": "markdown",
   "metadata": {},
   "source": [
    "---\n",
    "\n",
    "``triangulo_programainteractivo.py``"
   ]
  },
  {
   "cell_type": "code",
   "execution_count": null,
   "metadata": {},
   "outputs": [],
   "source": [
    "import triangulo\n",
    "\n",
    "print(\"Calculemos el Área y Perímetro de un triangulo\")\n",
    "\n",
    "# pedimos datos a una persona\n",
    "lado1 = input(\"Ingrese largo del primer lado: \")\n",
    "lado2 = input(\"Ingrese largo del segundo lado: \")\n",
    "lado3 = input(\"Ingrese largo del tercer lado: \")\n",
    "\n",
    "#convertimos lo recibido de texto a numero\n",
    "lado1 = float(lado1)\n",
    "lado2 = float(lado2)\n",
    "lado3 = float(lado3)\n",
    "\n",
    "# un print(\"\") sirve para agregar una linea en blanco\n",
    "# así le podemos dar \"espacio\" a nuestros programas\n",
    "print(\"\")\n",
    "\n",
    "#calculamos y mostramos el resultado en pantalla\n",
    "print(\"El perímetro es: \", triangulo.perimetro(lado1,lado2,lado3))\n",
    "print(\"El área es: \", triangulo.area(lado1,lado2,lado3))"
   ]
  },
  {
   "cell_type": "markdown",
   "metadata": {},
   "source": [
    "---"
   ]
  },
  {
   "cell_type": "markdown",
   "metadata": {},
   "source": [
    "---\n",
    "\n",
    "``triangulo_programainteractivo_v2.py``"
   ]
  },
  {
   "cell_type": "code",
   "execution_count": 20,
   "metadata": {},
   "outputs": [
    {
     "name": "stdout",
     "output_type": "stream",
     "text": [
      "Calculemos el Área y Perímetro de un triangulo\n"
     ]
    },
    {
     "name": "stdout",
     "output_type": "stream",
     "text": [
      "Ingrese largo del primer lado:  6\n",
      "Ingrese largo del segundo lado:  8\n",
      "Ingrese largo del tercer lado:  10\n"
     ]
    },
    {
     "name": "stdout",
     "output_type": "stream",
     "text": [
      "El perímetro es:  24.0\n",
      "El área es:  24.0\n"
     ]
    }
   ],
   "source": [
    "from triangulo import *\n",
    "\n",
    "print(\"Calculemos el Área y Perímetro de un triangulo\")\n",
    "\n",
    "lado1 = input(\"Ingrese largo del primer lado: \")\n",
    "lado2 = input(\"Ingrese largo del segundo lado: \")\n",
    "lado3 = input(\"Ingrese largo del tercer lado: \")\n",
    "\n",
    "lado1 = float(lado1)\n",
    "lado2 = float(lado2)\n",
    "lado3 = float(lado3)\n",
    "\n",
    "print(\"El perímetro es: \", perimetro(lado1,lado2,lado3))\n",
    "print(\"El área es: \", area(lado1,lado2,lado3))"
   ]
  },
  {
   "cell_type": "markdown",
   "metadata": {},
   "source": [
    "---"
   ]
  },
  {
   "cell_type": "markdown",
   "metadata": {},
   "source": [
    "### Funciones interactivas"
   ]
  },
  {
   "cell_type": "markdown",
   "metadata": {},
   "source": [
    "\n",
    "También es posible tener funciones interactivas.  Es decir, funciones que no reciben parámetros, ni entregan respuestas vía ``return``, pero interactúan con una persona a través de ``input`` y ``print``\n",
    "\n",
    "Adaptemos la solución anterior para que sea una función interactiva\n",
    "\n",
    "<div><img src=\"img3_funinteractivo.svg\" width=\"65%;\"/></div>\n"
   ]
  },
  {
   "cell_type": "markdown",
   "metadata": {},
   "source": [
    "--- \n",
    "\n",
    "``triangulo_funcioninteractiva.py``"
   ]
  },
  {
   "cell_type": "code",
   "execution_count": 21,
   "metadata": {},
   "outputs": [],
   "source": [
    "from triangulo import *\n",
    "\n",
    "# preguntasTriangulo: None -> None\n",
    "# pregunta a una persona por los 3 lados de un triangulo y calcula area y perimetro\n",
    "# Ej: preguntasTriangulo() da inicio a las preguntas\n",
    "def preguntasTriangulo():\n",
    "    print(\"Calculemos el Área y Perímetro de un triangulo\")\n",
    "\n",
    "    lado1 = input(\"Ingrese largo del primer lado: \")\n",
    "    lado2 = input(\"Ingrese largo del segundo lado: \")\n",
    "    lado3 = input(\"Ingrese largo del tercer lado: \")\n",
    "\n",
    "    lado1 = float(lado1)\n",
    "    lado2 = float(lado2)\n",
    "    lado3 = float(lado3)\n",
    "\n",
    "    print(\"\")\n",
    "    print(\"El perímetro es: \", perimetro(lado1,lado2,lado3))\n",
    "    print(\"El área es: \", area(lado1,lado2,lado3))\n",
    "\n",
    "    return None\n"
   ]
  },
  {
   "cell_type": "markdown",
   "metadata": {},
   "source": [
    "Notemos que:\n",
    "\n",
    "- Cuando una función **no recibe parámetros**, o **no entrega un resultado explicito**, se coloca el \"tipo de dato\" ``None``, que como su nombre indica, significa nada (matemáticamente es el equivalente al *vacío*)\n",
    "\n",
    "- Si no hubiésemos colocado un ``return None al final``, de todos modos Python agrega implícitamente uno cuando llega al final de una función y no hay un ``return`` explicito.\n",
    "\n",
    "- El cuerpo de la función es bastante similar al programa interactivo original (se puede decir que una función interactiva encapsula el comportamiento de su programa interactivo equivalente)"
   ]
  },
  {
   "cell_type": "markdown",
   "metadata": {},
   "source": [
    "Así tenemos:"
   ]
  },
  {
   "cell_type": "code",
   "execution_count": 22,
   "metadata": {},
   "outputs": [
    {
     "name": "stdout",
     "output_type": "stream",
     "text": [
      "Calculemos el Área y Perímetro de un triangulo\n"
     ]
    },
    {
     "name": "stdout",
     "output_type": "stream",
     "text": [
      "Ingrese largo del primer lado:  6\n",
      "Ingrese largo del segundo lado:  8\n",
      "Ingrese largo del tercer lado:  10\n"
     ]
    },
    {
     "name": "stdout",
     "output_type": "stream",
     "text": [
      "\n",
      "El perímetro es:  24.0\n",
      "El área es:  24.0\n"
     ]
    }
   ],
   "source": [
    "preguntasTriangulo()"
   ]
  },
  {
   "cell_type": "markdown",
   "metadata": {},
   "source": [
    "### Funciones vs Programas interactivos"
   ]
  },
  {
   "cell_type": "markdown",
   "metadata": {},
   "source": [
    "- Como vimos, ambos cumplen su tarea de una manera similar para el mismo problema.\n",
    "\n",
    "- Un **programa interactivo**, al no ser una función, **no está subordinado a la receta de diseño**. \n",
    "\n",
    "  - Simplemente son una serie de instrucciones que generan una interacción.\n",
    "\n",
    "- Una **función interactiva**, al ser función, tiene que **respetar la receta de diseño**, con algunos detalles:\n",
    "\n",
    "  - Las interacciones que ocurran mediante ``input`` y ``print`` son *invisibles* al contrato de la función, ya que no se consideran como parámetros ni respuesta de una función\n",
    "\n",
    "  - Las funciones interactivas no llevan test, ya que al no retornar nada (``return None``), no es posible testearlas.\n",
    "\n",
    "  - El ejemplo de uso es opcional\n"
   ]
  },
  {
   "cell_type": "markdown",
   "metadata": {},
   "source": [
    "---"
   ]
  },
  {
   "cell_type": "markdown",
   "metadata": {},
   "source": [
    "## Propuestos"
   ]
  },
  {
   "cell_type": "markdown",
   "metadata": {},
   "source": [
    "\n",
    "- Cree un programa interactivo, que le pida a una persona que ingrese dos números $a$ y $b$, que representarán el intervalo $[a,b]$. El programa debe generar 3 números aleatorios dentro de ese intervalo y mostrar en pantalla el número menor y mayor entre esos 3.\n",
    "\n",
    "- En el programa anterior, ¿Cómo podría mostrar en pantalla el número del medio (sin usar condicionales)?"
   ]
  },
  {
   "cell_type": "markdown",
   "metadata": {},
   "source": [
    "## Conclusiones"
   ]
  },
  {
   "cell_type": "markdown",
   "metadata": {},
   "source": [
    "El día de hoy, hemos aprendido:\n",
    "\n",
    "- Importar módulos con funciones adicionales, para darle más poder de cómputo a nuestros programas\n",
    "\n",
    "- Crear nuestros propios módulos\n",
    "\n",
    "- Usar módulos en funciones y programas\n",
    "\n",
    "- Crear y diseñar funciones y programas interactivos\n"
   ]
  }
 ],
 "metadata": {
  "kernelspec": {
   "display_name": "Python 3 (ipykernel)",
   "language": "python",
   "name": "python3"
  },
  "language_info": {
   "codemirror_mode": {
    "name": "ipython",
    "version": 3
   },
   "file_extension": ".py",
   "mimetype": "text/x-python",
   "name": "python",
   "nbconvert_exporter": "python",
   "pygments_lexer": "ipython3",
   "version": "3.10.6"
  },
  "vscode": {
   "interpreter": {
    "hash": "98b95ce4537a043c6c2f8047f97d2678115deb8444c76d437608d4f0db95d495"
   }
  }
 },
 "nbformat": 4,
 "nbformat_minor": 4
}
